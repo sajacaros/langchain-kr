{
 "cells": [
  {
   "cell_type": "markdown",
   "id": "498d7e55",
   "metadata": {},
   "source": [
    "# UpstageLayoutAnalysisLoader\n",
    "\n",
    "`UpstageLayoutAnalysisLoader` 는 Upstage AI에서 제공하는 문서 분석 도구로, LangChain 프레임워크와 통합되어 사용할 수 있는 문서 로더입니다.\n",
    "\n",
    "**주요 특징:**\n",
    "- PDF, 이미지 등 다양한 형식의 문서에서 레이아웃 분석 수행\n",
    "- 문서의 구조적 요소(제목, 단락, 표, 이미지 등)를 자동으로 인식 및 추출\n",
    "- OCR 기능 지원 (선택적)\n",
    "\n",
    "UpstageLayoutAnalysisLoader는 단순한 텍스트 추출을 넘어 문서의 구조를 이해하고 요소 간 관계를 파악하여 보다 정확한 문서 분석을 가능하게 합니다.\n",
    "\n",
    "**설치**\n",
    "\n",
    "`langchain-upstage` 패키지를 설치 후 사용합니다.\n",
    "\n",
    "```bash\n",
    "pip install -U langchain-upstage\n",
    "```"
   ]
  },
  {
   "cell_type": "markdown",
   "id": "e9546f6f",
   "metadata": {},
   "source": [
    "**API Key 설정**\n",
    "\n",
    "- Upstage API KEY 발급 링크: https://console.upstage.ai/\n",
    "\n",
    "`.env` 파일에 `UPSTAGE_API_KEY` 키를 설정합니다.\n",
    "\n",
    "**참고** \n",
    "- [Upstage 개발자 문서](https://developers.upstage.ai/docs/getting-started/quick-start)를 참조하세요."
   ]
  },
  {
   "cell_type": "markdown",
   "id": "79b7b67e",
   "metadata": {},
   "source": [
    "## 환경 설정"
   ]
  },
  {
   "cell_type": "code",
   "execution_count": 4,
   "id": "69ca6180",
   "metadata": {
    "ExecuteTime": {
     "end_time": "2024-10-05T16:40:53.910391300Z",
     "start_time": "2024-10-05T16:40:53.903730600Z"
    }
   },
   "outputs": [
    {
     "data": {
      "text/plain": "True"
     },
     "execution_count": 4,
     "metadata": {},
     "output_type": "execute_result"
    }
   ],
   "source": [
    "# API KEY를 환경변수로 관리하기 위한 설정 파일\n",
    "from dotenv import load_dotenv\n",
    "\n",
    "# API KEY 정보로드\n",
    "load_dotenv()"
   ]
  },
  {
   "cell_type": "code",
   "execution_count": 5,
   "id": "2599bedd",
   "metadata": {
    "ExecuteTime": {
     "end_time": "2024-10-05T16:40:54.351225500Z",
     "start_time": "2024-10-05T16:40:54.345597500Z"
    }
   },
   "outputs": [
    {
     "name": "stdout",
     "output_type": "stream",
     "text": [
      "LangSmith 추적을 시작합니다.\n",
      "[프로젝트명]\n",
      "CH07-DocumentLoader\n"
     ]
    }
   ],
   "source": [
    "# LangSmith 추적을 설정합니다. https://smith.langchain.com\n",
    "# !pip install langchain-teddynote\n",
    "from langchain_teddynote import logging\n",
    "\n",
    "# 프로젝트 이름을 입력합니다.\n",
    "logging.langsmith(\"CH07-DocumentLoader\")"
   ]
  },
  {
   "cell_type": "markdown",
   "id": "3cbc8666",
   "metadata": {},
   "source": [
    "## UpstageLayoutAnalysisLoader"
   ]
  },
  {
   "cell_type": "markdown",
   "id": "39a7d5bd",
   "metadata": {},
   "source": [
    "**주요 파라미터**\n",
    "- `file_path`: 분석할 문서 경로\n",
    "- `output_type`: 출력 형식 [(기본값)'html', 'text']\n",
    "- `split`: 문서 분할 방식 ['none', 'element', 'page']\n",
    "- `use_ocr=True`: OCR 사용\n",
    "- `exclude=[\"header\", \"footer\"]`: 헤더, 푸터 제외"
   ]
  },
  {
   "cell_type": "code",
   "execution_count": 6,
   "id": "3d71cdeb",
   "metadata": {
    "ExecuteTime": {
     "end_time": "2024-10-05T16:40:56.214281200Z",
     "start_time": "2024-10-05T16:40:56.077888100Z"
    }
   },
   "outputs": [
    {
     "ename": "ValueError",
     "evalue": "Failed to send request: 403 Client Error: Forbidden for url: https://api.upstage.ai/v1/document-ai/layout-analysis",
     "output_type": "error",
     "traceback": [
      "\u001B[1;31m---------------------------------------------------------------------------\u001B[0m",
      "\u001B[1;31mHTTPError\u001B[0m                                 Traceback (most recent call last)",
      "File \u001B[1;32m~\\miniconda3\\Lib\\site-packages\\langchain_upstage\\layout_analysis_parsers.py:196\u001B[0m, in \u001B[0;36mUpstageLayoutAnalysisParser._get_response\u001B[1;34m(self, files)\u001B[0m\n\u001B[0;32m    193\u001B[0m     response \u001B[38;5;241m=\u001B[39m requests\u001B[38;5;241m.\u001B[39mpost(\n\u001B[0;32m    194\u001B[0m         LAYOUT_ANALYSIS_URL, headers\u001B[38;5;241m=\u001B[39mheaders, files\u001B[38;5;241m=\u001B[39mfiles\n\u001B[0;32m    195\u001B[0m     )\n\u001B[1;32m--> 196\u001B[0m \u001B[43mresponse\u001B[49m\u001B[38;5;241;43m.\u001B[39;49m\u001B[43mraise_for_status\u001B[49m\u001B[43m(\u001B[49m\u001B[43m)\u001B[49m\n\u001B[0;32m    198\u001B[0m result \u001B[38;5;241m=\u001B[39m response\u001B[38;5;241m.\u001B[39mjson()\u001B[38;5;241m.\u001B[39mget(\u001B[38;5;124m\"\u001B[39m\u001B[38;5;124melements\u001B[39m\u001B[38;5;124m\"\u001B[39m, [])\n",
      "File \u001B[1;32m~\\miniconda3\\Lib\\site-packages\\requests\\models.py:1024\u001B[0m, in \u001B[0;36mResponse.raise_for_status\u001B[1;34m(self)\u001B[0m\n\u001B[0;32m   1023\u001B[0m \u001B[38;5;28;01mif\u001B[39;00m http_error_msg:\n\u001B[1;32m-> 1024\u001B[0m     \u001B[38;5;28;01mraise\u001B[39;00m HTTPError(http_error_msg, response\u001B[38;5;241m=\u001B[39m\u001B[38;5;28mself\u001B[39m)\n",
      "\u001B[1;31mHTTPError\u001B[0m: 403 Client Error: Forbidden for url: https://api.upstage.ai/v1/document-ai/layout-analysis",
      "\nDuring handling of the above exception, another exception occurred:\n",
      "\u001B[1;31mValueError\u001B[0m                                Traceback (most recent call last)",
      "Cell \u001B[1;32mIn[6], line 16\u001B[0m\n\u001B[0;32m      7\u001B[0m loader \u001B[38;5;241m=\u001B[39m UpstageLayoutAnalysisLoader(\n\u001B[0;32m      8\u001B[0m     file_path,\n\u001B[0;32m      9\u001B[0m     output_type\u001B[38;5;241m=\u001B[39m\u001B[38;5;124m\"\u001B[39m\u001B[38;5;124mhtml\u001B[39m\u001B[38;5;124m\"\u001B[39m,\n\u001B[1;32m   (...)\u001B[0m\n\u001B[0;32m     12\u001B[0m     exclude\u001B[38;5;241m=\u001B[39m[\u001B[38;5;124m\"\u001B[39m\u001B[38;5;124mheader\u001B[39m\u001B[38;5;124m\"\u001B[39m, \u001B[38;5;124m\"\u001B[39m\u001B[38;5;124mfooter\u001B[39m\u001B[38;5;124m\"\u001B[39m],\n\u001B[0;32m     13\u001B[0m )\n\u001B[0;32m     15\u001B[0m \u001B[38;5;66;03m# 문서 로드\u001B[39;00m\n\u001B[1;32m---> 16\u001B[0m docs \u001B[38;5;241m=\u001B[39m \u001B[43mloader\u001B[49m\u001B[38;5;241;43m.\u001B[39;49m\u001B[43mload\u001B[49m\u001B[43m(\u001B[49m\u001B[43m)\u001B[49m\n\u001B[0;32m     18\u001B[0m \u001B[38;5;66;03m# 결과 출력\u001B[39;00m\n\u001B[0;32m     19\u001B[0m \u001B[38;5;28;01mfor\u001B[39;00m doc \u001B[38;5;129;01min\u001B[39;00m docs[:\u001B[38;5;241m3\u001B[39m]:\n",
      "File \u001B[1;32m~\\miniconda3\\Lib\\site-packages\\langchain_upstage\\layout_analysis.py:180\u001B[0m, in \u001B[0;36mUpstageLayoutAnalysisLoader.load\u001B[1;34m(self)\u001B[0m\n\u001B[0;32m    171\u001B[0m blob \u001B[38;5;241m=\u001B[39m Blob\u001B[38;5;241m.\u001B[39mfrom_path(\u001B[38;5;28mself\u001B[39m\u001B[38;5;241m.\u001B[39mfile_path)\n\u001B[0;32m    173\u001B[0m parser \u001B[38;5;241m=\u001B[39m UpstageLayoutAnalysisParser(\n\u001B[0;32m    174\u001B[0m     \u001B[38;5;28mself\u001B[39m\u001B[38;5;241m.\u001B[39mapi_key,\n\u001B[0;32m    175\u001B[0m     split\u001B[38;5;241m=\u001B[39m\u001B[38;5;28mself\u001B[39m\u001B[38;5;241m.\u001B[39msplit,\n\u001B[1;32m   (...)\u001B[0m\n\u001B[0;32m    178\u001B[0m     exclude\u001B[38;5;241m=\u001B[39m\u001B[38;5;28mself\u001B[39m\u001B[38;5;241m.\u001B[39mexclude,\n\u001B[0;32m    179\u001B[0m )\n\u001B[1;32m--> 180\u001B[0m \u001B[38;5;28;01mreturn\u001B[39;00m \u001B[38;5;28;43mlist\u001B[39;49m\u001B[43m(\u001B[49m\u001B[43mparser\u001B[49m\u001B[38;5;241;43m.\u001B[39;49m\u001B[43mlazy_parse\u001B[49m\u001B[43m(\u001B[49m\u001B[43mblob\u001B[49m\u001B[43m,\u001B[49m\u001B[43m \u001B[49m\u001B[43mis_batch\u001B[49m\u001B[38;5;241;43m=\u001B[39;49m\u001B[38;5;28;43;01mTrue\u001B[39;49;00m\u001B[43m)\u001B[49m\u001B[43m)\u001B[49m\n",
      "File \u001B[1;32m~\\miniconda3\\Lib\\site-packages\\langchain_upstage\\layout_analysis_parsers.py:383\u001B[0m, in \u001B[0;36mUpstageLayoutAnalysisParser.lazy_parse\u001B[1;34m(self, blob, is_batch)\u001B[0m\n\u001B[0;32m    380\u001B[0m \u001B[38;5;28;01mif\u001B[39;00m start_page \u001B[38;5;241m>\u001B[39m\u001B[38;5;241m=\u001B[39m number_of_pages:\n\u001B[0;32m    381\u001B[0m     \u001B[38;5;28;01mbreak\u001B[39;00m\n\u001B[1;32m--> 383\u001B[0m elements \u001B[38;5;241m=\u001B[39m \u001B[38;5;28;43mself\u001B[39;49m\u001B[38;5;241;43m.\u001B[39;49m\u001B[43m_split_and_request\u001B[49m\u001B[43m(\u001B[49m\u001B[43mfull_docs\u001B[49m\u001B[43m,\u001B[49m\u001B[43m \u001B[49m\u001B[43mstart_page\u001B[49m\u001B[43m,\u001B[49m\u001B[43m \u001B[49m\u001B[43mnum_pages\u001B[49m\u001B[43m)\u001B[49m\n\u001B[0;32m    384\u001B[0m \u001B[38;5;28;01mfor\u001B[39;00m element \u001B[38;5;129;01min\u001B[39;00m elements:\n\u001B[0;32m    385\u001B[0m     \u001B[38;5;28;01myield\u001B[39;00m \u001B[38;5;28mself\u001B[39m\u001B[38;5;241m.\u001B[39m_element_document(element, start_page)\n",
      "File \u001B[1;32m~\\miniconda3\\Lib\\site-packages\\langchain_upstage\\layout_analysis_parsers.py:247\u001B[0m, in \u001B[0;36mUpstageLayoutAnalysisParser._split_and_request\u001B[1;34m(self, full_docs, start_page, num_pages)\u001B[0m\n\u001B[0;32m    245\u001B[0m     merger\u001B[38;5;241m.\u001B[39mwrite(buffer)\n\u001B[0;32m    246\u001B[0m     buffer\u001B[38;5;241m.\u001B[39mseek(\u001B[38;5;241m0\u001B[39m)\n\u001B[1;32m--> 247\u001B[0m     response \u001B[38;5;241m=\u001B[39m \u001B[38;5;28;43mself\u001B[39;49m\u001B[38;5;241;43m.\u001B[39;49m\u001B[43m_get_response\u001B[49m\u001B[43m(\u001B[49m\u001B[43m{\u001B[49m\u001B[38;5;124;43m\"\u001B[39;49m\u001B[38;5;124;43mdocument\u001B[39;49m\u001B[38;5;124;43m\"\u001B[39;49m\u001B[43m:\u001B[49m\u001B[43m \u001B[49m\u001B[43mbuffer\u001B[49m\u001B[43m}\u001B[49m\u001B[43m)\u001B[49m\n\u001B[0;32m    249\u001B[0m \u001B[38;5;28;01mreturn\u001B[39;00m response\n",
      "File \u001B[1;32m~\\miniconda3\\Lib\\site-packages\\langchain_upstage\\layout_analysis_parsers.py:208\u001B[0m, in \u001B[0;36mUpstageLayoutAnalysisParser._get_response\u001B[1;34m(self, files)\u001B[0m\n\u001B[0;32m    204\u001B[0m     \u001B[38;5;28;01mreturn\u001B[39;00m elements\n\u001B[0;32m    206\u001B[0m \u001B[38;5;28;01mexcept\u001B[39;00m requests\u001B[38;5;241m.\u001B[39mRequestException \u001B[38;5;28;01mas\u001B[39;00m req_err:\n\u001B[0;32m    207\u001B[0m     \u001B[38;5;66;03m# Handle any request-related exceptions\u001B[39;00m\n\u001B[1;32m--> 208\u001B[0m     \u001B[38;5;28;01mraise\u001B[39;00m \u001B[38;5;167;01mValueError\u001B[39;00m(\u001B[38;5;124mf\u001B[39m\u001B[38;5;124m\"\u001B[39m\u001B[38;5;124mFailed to send request: \u001B[39m\u001B[38;5;132;01m{\u001B[39;00mreq_err\u001B[38;5;132;01m}\u001B[39;00m\u001B[38;5;124m\"\u001B[39m)\n\u001B[0;32m    209\u001B[0m \u001B[38;5;28;01mexcept\u001B[39;00m json\u001B[38;5;241m.\u001B[39mJSONDecodeError \u001B[38;5;28;01mas\u001B[39;00m json_err:\n\u001B[0;32m    210\u001B[0m     \u001B[38;5;66;03m# Handle JSON decode errors\u001B[39;00m\n\u001B[0;32m    211\u001B[0m     \u001B[38;5;28;01mraise\u001B[39;00m \u001B[38;5;167;01mValueError\u001B[39;00m(\u001B[38;5;124mf\u001B[39m\u001B[38;5;124m\"\u001B[39m\u001B[38;5;124mFailed to decode JSON response: \u001B[39m\u001B[38;5;132;01m{\u001B[39;00mjson_err\u001B[38;5;132;01m}\u001B[39;00m\u001B[38;5;124m\"\u001B[39m)\n",
      "\u001B[1;31mValueError\u001B[0m: Failed to send request: 403 Client Error: Forbidden for url: https://api.upstage.ai/v1/document-ai/layout-analysis"
     ]
    }
   ],
   "source": [
    "from langchain_upstage import UpstageLayoutAnalysisLoader\n",
    "\n",
    "# 파일 경로\n",
    "file_path = \"./data/SPRI_AI_Brief_2023년12월호_F.pdf\"\n",
    "\n",
    "# 문서 로더 설정\n",
    "loader = UpstageLayoutAnalysisLoader(\n",
    "    file_path,\n",
    "    output_type=\"html\",\n",
    "    split=\"element\",\n",
    "    use_ocr=True,\n",
    "    exclude=[\"header\", \"footer\"],\n",
    ")\n",
    "\n",
    "# 문서 로드\n",
    "docs = loader.load()\n",
    "\n",
    "# 결과 출력\n",
    "for doc in docs[:3]:\n",
    "    print(doc)"
   ]
  },
  {
   "cell_type": "code",
   "execution_count": null,
   "id": "4f883a1c",
   "metadata": {},
   "outputs": [],
   "source": [
    "docs[11]"
   ]
  }
 ],
 "metadata": {
  "kernelspec": {
   "display_name": "langchain-kr-lwwSZlnu-py3.11",
   "language": "python",
   "name": "python3"
  },
  "language_info": {
   "codemirror_mode": {
    "name": "ipython",
    "version": 3
   },
   "file_extension": ".py",
   "mimetype": "text/x-python",
   "name": "python",
   "nbconvert_exporter": "python",
   "pygments_lexer": "ipython3",
   "version": "3.11.9"
  }
 },
 "nbformat": 4,
 "nbformat_minor": 5
}
