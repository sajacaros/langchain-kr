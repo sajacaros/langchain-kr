{
 "cells": [
  {
   "cell_type": "markdown",
   "metadata": {},
   "source": [
    "# 이전 대화를 기억하는 Chain 생성방법"
   ]
  },
  {
   "cell_type": "code",
   "execution_count": 12,
   "metadata": {
    "ExecuteTime": {
     "end_time": "2024-10-06T08:12:41.276234900Z",
     "start_time": "2024-10-06T08:12:41.265256900Z"
    }
   },
   "outputs": [
    {
     "data": {
      "text/plain": "True"
     },
     "execution_count": 12,
     "metadata": {},
     "output_type": "execute_result"
    }
   ],
   "source": [
    "# API KEY를 환경변수로 관리하기 위한 설정 파일\n",
    "from dotenv import load_dotenv\n",
    "\n",
    "# API KEY 정보로드\n",
    "load_dotenv()"
   ]
  },
  {
   "cell_type": "code",
   "execution_count": 13,
   "metadata": {
    "ExecuteTime": {
     "end_time": "2024-10-06T08:12:41.565941200Z",
     "start_time": "2024-10-06T08:12:41.562933600Z"
    }
   },
   "outputs": [
    {
     "name": "stdout",
     "output_type": "stream",
     "text": [
      "LangSmith 추적을 시작합니다.\n",
      "[프로젝트명]\n",
      "CH05-Memory\n"
     ]
    }
   ],
   "source": [
    "# LangSmith 추적을 설정합니다. https://smith.langchain.com\n",
    "# !pip install langchain-teddynote\n",
    "from langchain_teddynote import logging\n",
    "\n",
    "# 프로젝트 이름을 입력합니다.\n",
    "logging.langsmith(\"CH05-Memory\")"
   ]
  },
  {
   "cell_type": "markdown",
   "metadata": {},
   "source": [
    "## 이전 대화내용을 기억하는 multi-turn Chain"
   ]
  },
  {
   "cell_type": "code",
   "execution_count": 14,
   "metadata": {
    "ExecuteTime": {
     "end_time": "2024-10-06T08:12:42.992957600Z",
     "start_time": "2024-10-06T08:12:42.988036200Z"
    }
   },
   "outputs": [],
   "source": [
    "from langchain_core.prompts import ChatPromptTemplate, MessagesPlaceholder\n",
    "from langchain_community.chat_message_histories import ChatMessageHistory\n",
    "from langchain_core.chat_history import BaseChatMessageHistory\n",
    "from langchain_core.runnables.history import RunnableWithMessageHistory\n",
    "from langchain_openai import ChatOpenAI\n",
    "from langchain_core.output_parsers import StrOutputParser\n",
    "\n",
    "\n",
    "# 프롬프트 정의\n",
    "prompt = ChatPromptTemplate.from_messages(\n",
    "    [\n",
    "        (\n",
    "            \"system\",\n",
    "            \"당신은 Question-Answering 챗봇입니다. 주어진 질문에 대한 답변을 제공해주세요.\",\n",
    "        ),\n",
    "        # 대화기록용 key 인 chat_history 는 가급적 변경 없이 사용하세요!\n",
    "        MessagesPlaceholder(variable_name=\"chat_history\"),\n",
    "        (\"human\", \"#Question:\\n{question}\"),  # 사용자 입력을 변수로 사용\n",
    "    ]\n",
    ")\n"
   ]
  },
  {
   "cell_type": "code",
   "execution_count": 15,
   "outputs": [],
   "source": [
    "# llm 생성\n",
    "import os\n",
    "from langserve import RemoteRunnable\n",
    "\n",
    "llm = ChatOpenAI(model_name=\"gpt-3.5-turbo\")\n",
    "# llm = RemoteRunnable(f\"{os.getenv('LANGSERVE_ENDPOINT')}/llm\")\n",
    "\n",
    "# 일반 Chain 생성\n",
    "chain = prompt | llm | StrOutputParser()"
   ],
   "metadata": {
    "collapsed": false,
    "ExecuteTime": {
     "end_time": "2024-10-06T08:12:45.554695800Z",
     "start_time": "2024-10-06T08:12:45.152864800Z"
    }
   }
  },
  {
   "cell_type": "code",
   "execution_count": 32,
   "outputs": [],
   "source": [
    "from sqlalchemy import Column, Integer, Text\n",
    "import json\n",
    "from typing import Any\n",
    "from langchain_core.messages import BaseMessage, messages_from_dict, message_to_dict\n",
    "from sqlalchemy.orm import declarative_base\n",
    "from langchain_community.chat_message_histories.sql import BaseMessageConverter\n",
    "\n",
    "# session_id를 history_id로 변경하기\n",
    "\n",
    "def create_message_model(table_name: str, DynamicBase: Any) -> Any:\n",
    "    # Model declared inside a function to have a dynamic table name.\n",
    "    class Message(DynamicBase):  # type: ignore[valid-type, misc]\n",
    "        __tablename__ = table_name\n",
    "        id = Column(Integer, primary_key=True)\n",
    "        history_id = Column(Text)\n",
    "        message = Column(Text)\n",
    "\n",
    "    return Message\n",
    "\n",
    "class CustomMessageConverter(BaseMessageConverter):\n",
    "    \"\"\"The Custom message converter for SQLChatMessageHistory.\"\"\"\n",
    "\n",
    "    def __init__(self, table_name: str):\n",
    "        self.model_class = create_message_model(table_name, declarative_base())\n",
    "\n",
    "    def from_sql_model(self, sql_message: Any) -> BaseMessage:\n",
    "        return messages_from_dict([json.loads(sql_message.message)])[0]\n",
    "\n",
    "    def to_sql_model(self, message: BaseMessage, session_id: str) -> Any:\n",
    "        return self.model_class(\n",
    "            history_id=session_id, message=json.dumps(message_to_dict(message))\n",
    "        )\n",
    "\n",
    "    def get_sql_model_class(self) -> Any:\n",
    "        return self.model_class"
   ],
   "metadata": {
    "collapsed": false,
    "ExecuteTime": {
     "end_time": "2024-10-06T08:28:21.122125900Z",
     "start_time": "2024-10-06T08:28:21.110601300Z"
    }
   }
  },
  {
   "cell_type": "markdown",
   "metadata": {},
   "source": [
    "대화를 기록하는 체인 생성(`chain_with_history`)"
   ]
  },
  {
   "cell_type": "code",
   "execution_count": 27,
   "metadata": {
    "ExecuteTime": {
     "end_time": "2024-10-06T08:27:20.631290600Z",
     "start_time": "2024-10-06T08:27:20.625772800Z"
    }
   },
   "outputs": [],
   "source": [
    "from langchain_community.chat_message_histories import SQLChatMessageHistory\n",
    "\n",
    "# SQLChatMessageHistory 객체를 생성하고 세션 ID와 데이터베이스 연결 파일을 설정\n",
    "def get_chat_history(conversation_id):\n",
    "    return SQLChatMessageHistory(\n",
    "        table_name=\"history\",\n",
    "        session_id=conversation_id,\n",
    "        connection=\"sqlite:///sqlite_runnable.db\",\n",
    "        session_id_field_name=\"history_id\",\n",
    "        custom_message_converter=CustomMessageConverter(\"history\")\n",
    "    )"
   ]
  },
  {
   "cell_type": "code",
   "execution_count": 28,
   "outputs": [],
   "source": [
    "from langchain_core.runnables.utils import ConfigurableFieldSpec\n",
    "\n",
    "config_fields = [\n",
    "    ConfigurableFieldSpec(\n",
    "        id=\"conversation_id\",\n",
    "        annotation=str,\n",
    "        name=\"Conversation ID\",\n",
    "        description=\"Unique identifier for a conversation.\",\n",
    "        default=\"\",\n",
    "        is_shared=True,\n",
    "    ),\n",
    "]"
   ],
   "metadata": {
    "collapsed": false,
    "ExecuteTime": {
     "end_time": "2024-10-06T08:27:21.709928Z",
     "start_time": "2024-10-06T08:27:21.703407900Z"
    }
   }
  },
  {
   "cell_type": "code",
   "execution_count": 29,
   "outputs": [],
   "source": [
    "chain_with_history = RunnableWithMessageHistory(\n",
    "    chain,\n",
    "    get_chat_history,  # 세션 기록을 가져오는 함수\n",
    "    input_messages_key=\"question\",  # 사용자의 질문이 템플릿 변수에 들어갈 key\n",
    "    history_messages_key=\"chat_history\",  # 기록 메시지의 키\n",
    "    history_factory_config=config_fields,\n",
    ")"
   ],
   "metadata": {
    "collapsed": false,
    "ExecuteTime": {
     "end_time": "2024-10-06T08:27:22.254673500Z",
     "start_time": "2024-10-06T08:27:22.248200700Z"
    }
   }
  },
  {
   "cell_type": "markdown",
   "metadata": {},
   "source": [
    "첫 번째 질문 실행"
   ]
  },
  {
   "cell_type": "code",
   "execution_count": 30,
   "metadata": {
    "ExecuteTime": {
     "end_time": "2024-10-06T08:27:24.699078800Z",
     "start_time": "2024-10-06T08:27:23.838481900Z"
    }
   },
   "outputs": [
    {
     "data": {
      "text/plain": "'안녕하세요, 테디님! 무엇을 도와드릴까요?'"
     },
     "execution_count": 30,
     "metadata": {},
     "output_type": "execute_result"
    }
   ],
   "source": [
    "chain_with_history.invoke(\n",
    "    # 질문 입력\n",
    "    {\"question\": \"나의 이름은 테디입니다.\"},\n",
    "    # 세션 ID 기준으로 대화를 기록합니다.\n",
    "    config={\"configurable\": {\"conversation_id\": \"abc123\"}},\n",
    ")"
   ]
  },
  {
   "cell_type": "markdown",
   "metadata": {},
   "source": [
    "이어서 질문 실행"
   ]
  },
  {
   "cell_type": "code",
   "execution_count": 31,
   "metadata": {
    "ExecuteTime": {
     "end_time": "2024-10-06T08:27:27.348841700Z",
     "start_time": "2024-10-06T08:27:26.747458500Z"
    }
   },
   "outputs": [
    {
     "data": {
      "text/plain": "'당신의 이름은 테디입니다.'"
     },
     "execution_count": 31,
     "metadata": {},
     "output_type": "execute_result"
    }
   ],
   "source": [
    "chain_with_history.invoke(\n",
    "    # 질문 입력\n",
    "    {\"question\": \"내 이름이 뭐라고?\"},\n",
    "    # 세션 ID 기준으로 대화를 기록합니다.\n",
    "    config={\"configurable\": {\"conversation_id\": \"abc123\"}},\n",
    ")"
   ]
  },
  {
   "cell_type": "markdown",
   "metadata": {},
   "source": [
    "아래는 `session_id`가 다른 경우 새로운 세션이 생성되는 경우입니다."
   ]
  },
  {
   "cell_type": "code",
   "execution_count": 18,
   "metadata": {
    "ExecuteTime": {
     "end_time": "2024-10-06T07:45:59.992484900Z",
     "start_time": "2024-10-06T07:45:58.989042300Z"
    }
   },
   "outputs": [
    {
     "data": {
      "text/plain": "'죄송합니다, 저는 사용자의 이름을 알 수 없습니다. 어떤 다른 질문에 대해 도와드릴까요?'"
     },
     "execution_count": 18,
     "metadata": {},
     "output_type": "execute_result"
    }
   ],
   "source": [
    "chain_with_history.invoke(\n",
    "    # 질문 입력\n",
    "    {\"question\": \"내 이름이 뭐라고?\"},\n",
    "    # 세션 ID 기준으로 대화를 기록합니다.\n",
    "    config={\"configurable\": {\"conversation_id\": \"abc1234\"}},\n",
    ")"
   ]
  },
  {
   "cell_type": "code",
   "execution_count": null,
   "outputs": [],
   "source": [],
   "metadata": {
    "collapsed": false
   }
  }
 ],
 "metadata": {
  "kernelspec": {
   "display_name": "langchain-kr-lwwSZlnu-py3.11",
   "language": "python",
   "name": "python3"
  },
  "language_info": {
   "codemirror_mode": {
    "name": "ipython",
    "version": 3
   },
   "file_extension": ".py",
   "mimetype": "text/x-python",
   "name": "python",
   "nbconvert_exporter": "python",
   "pygments_lexer": "ipython3",
   "version": "3.10.13"
  }
 },
 "nbformat": 4,
 "nbformat_minor": 2
}
