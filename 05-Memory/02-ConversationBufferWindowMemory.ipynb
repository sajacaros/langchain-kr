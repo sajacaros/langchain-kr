{
 "cells": [
  {
   "cell_type": "markdown",
   "metadata": {},
   "source": [
    "# ConversationBufferWindowMemory\n",
    "\n",
    "`ConversationBufferWindowMemory` 는 시간이 지남에 따라 대화의 상호작용 목록을 유지합니다.\n",
    "\n",
    "이때, `ConversationBufferWindowMemory` 는 모든 대화내용을 활용하는 것이 아닌 **최근 K개** 의 상호작용만 사용합니다.\n",
    "\n",
    "이는 버퍼가 너무 커지지 않도록 가장 최근 상호작용의 슬라이딩 창을 유지하는 데 유용할 수 있습니다.\n"
   ]
  },
  {
   "cell_type": "code",
   "execution_count": 1,
   "metadata": {
    "ExecuteTime": {
     "end_time": "2024-10-03T12:50:01.762120500Z",
     "start_time": "2024-10-03T12:50:00.933361100Z"
    }
   },
   "outputs": [],
   "source": [
    "from langchain.memory import ConversationBufferWindowMemory\n",
    "\n",
    "memory = ConversationBufferWindowMemory(k=2, return_messages=True) # [message] if return_messages else [str] \n",
    "\n",
    "memory.save_context(\n",
    "    inputs={\n",
    "        \"human\": \"안녕하세요, 비대면으로 은행 계좌를 개설하고 싶습니다. 어떻게 시작해야 하나요?\"\n",
    "    },\n",
    "    outputs={\n",
    "        \"ai\": \"안녕하세요! 계좌 개설을 원하신다니 기쁩니다. 먼저, 본인 인증을 위해 신분증을 준비해 주시겠어요?\"\n",
    "    },\n",
    ")\n",
    "memory.save_context(\n",
    "    inputs={\"human\": \"네, 신분증을 준비했습니다. 이제 무엇을 해야 하나요?\"},\n",
    "    outputs={\n",
    "        \"ai\": \"감사합니다. 신분증 앞뒤를 명확하게 촬영하여 업로드해 주세요. 이후 본인 인증 절차를 진행하겠습니다.\"\n",
    "    },\n",
    ")\n",
    "memory.save_context(\n",
    "    inputs={\"human\": \"사진을 업로드했습니다. 본인 인증은 어떻게 진행되나요?\"},\n",
    "    outputs={\n",
    "        \"ai\": \"업로드해 주신 사진을 확인했습니다. 이제 휴대폰을 통한 본인 인증을 진행해 주세요. 문자로 발송된 인증번호를 입력해 주시면 됩니다.\"\n",
    "    },\n",
    ")\n",
    "memory.save_context(\n",
    "    inputs={\"human\": \"인증번호를 입력했습니다. 계좌 개설은 이제 어떻게 하나요?\"},\n",
    "    outputs={\n",
    "        \"ai\": \"본인 인증이 완료되었습니다. 이제 원하시는 계좌 종류를 선택하고 필요한 정보를 입력해 주세요. 예금 종류, 통화 종류 등을 선택할 수 있습니다.\"\n",
    "    },\n",
    ")\n",
    "memory.save_context(\n",
    "    inputs={\"human\": \"정보를 모두 입력했습니다. 다음 단계는 무엇인가요?\"},\n",
    "    outputs={\n",
    "        \"ai\": \"입력해 주신 정보를 확인했습니다. 계좌 개설 절차가 거의 끝났습니다. 마지막으로 이용 약관에 동의해 주시고, 계좌 개설을 최종 확인해 주세요.\"\n",
    "    },\n",
    ")\n",
    "memory.save_context(\n",
    "    inputs={\"human\": \"모든 절차를 완료했습니다. 계좌가 개설된 건가요?\"},\n",
    "    outputs={\n",
    "        \"ai\": \"네, 계좌 개설이 완료되었습니다. 고객님의 계좌 번호와 관련 정보는 등록하신 이메일로 발송되었습니다. 추가적인 도움이 필요하시면 언제든지 문의해 주세요. 감사합니다!\"\n",
    "    },\n",
    ")"
   ]
  },
  {
   "cell_type": "markdown",
   "metadata": {},
   "source": [
    "대화기록을 확인해 보면 **최근 2개** 의 메시지만 반환하는 것을 확인할 수 있습니다.\n"
   ]
  },
  {
   "cell_type": "code",
   "execution_count": 2,
   "metadata": {
    "ExecuteTime": {
     "end_time": "2024-10-03T12:50:01.767751100Z",
     "start_time": "2024-10-03T12:50:01.762120500Z"
    }
   },
   "outputs": [
    {
     "data": {
      "text/plain": "[HumanMessage(content='정보를 모두 입력했습니다. 다음 단계는 무엇인가요?'),\n AIMessage(content='입력해 주신 정보를 확인했습니다. 계좌 개설 절차가 거의 끝났습니다. 마지막으로 이용 약관에 동의해 주시고, 계좌 개설을 최종 확인해 주세요.'),\n HumanMessage(content='모든 절차를 완료했습니다. 계좌가 개설된 건가요?'),\n AIMessage(content='네, 계좌 개설이 완료되었습니다. 고객님의 계좌 번호와 관련 정보는 등록하신 이메일로 발송되었습니다. 추가적인 도움이 필요하시면 언제든지 문의해 주세요. 감사합니다!')]"
     },
     "execution_count": 2,
     "metadata": {},
     "output_type": "execute_result"
    }
   ],
   "source": [
    "# 대화 기록을 확인합니다.\n",
    "memory.load_memory_variables({})[\"history\"]"
   ]
  },
  {
   "cell_type": "markdown",
   "source": [
    "## Chain 에 적용"
   ],
   "metadata": {
    "collapsed": false
   }
  },
  {
   "cell_type": "code",
   "execution_count": 3,
   "outputs": [
    {
     "data": {
      "text/plain": "True"
     },
     "execution_count": 3,
     "metadata": {},
     "output_type": "execute_result"
    }
   ],
   "source": [
    "# API KEY를 환경변수로 관리하기 위한 설정 파일\n",
    "from dotenv import load_dotenv\n",
    "\n",
    "# API KEY 정보로드\n",
    "load_dotenv()"
   ],
   "metadata": {
    "collapsed": false,
    "ExecuteTime": {
     "end_time": "2024-10-03T12:53:13.272816100Z",
     "start_time": "2024-10-03T12:53:13.252219500Z"
    }
   }
  },
  {
   "cell_type": "code",
   "execution_count": 13,
   "outputs": [
    {
     "name": "stdout",
     "output_type": "stream",
     "text": [
      "LangSmith 추적을 시작합니다.\n",
      "[프로젝트명]\n",
      "CH05-Memory\n"
     ]
    }
   ],
   "source": [
    "# LangSmith 추적을 설정합니다. https://smith.langchain.com\n",
    "# !pip install langchain-teddynote\n",
    "from langchain_teddynote import logging\n",
    "from langchain_teddynote.messages import stream_response\n",
    "\n",
    "# 프로젝트 이름을 입력합니다.\n",
    "logging.langsmith(\"CH05-Memory\")"
   ],
   "metadata": {
    "collapsed": false,
    "ExecuteTime": {
     "end_time": "2024-10-03T12:59:18.620167700Z",
     "start_time": "2024-10-03T12:59:18.604274600Z"
    }
   }
  },
  {
   "cell_type": "code",
   "execution_count": 14,
   "outputs": [],
   "source": [
    "from langchain_openai import ChatOpenAI\n",
    "from langchain.chains import ConversationChain\n",
    "\n",
    "# LLM 모델을 생성합니다.\n",
    "llm = ChatOpenAI(temperature=0, model_name=\"gpt-3.5-turbo\")\n",
    "\n",
    "# ConversationChain을 생성합니다.\n",
    "conversation = ConversationChain(\n",
    "    # ConversationBufferMemory를 사용합니다.\n",
    "    llm=llm,\n",
    "    memory = ConversationBufferWindowMemory(k=2, return_messages=False) # [message] if return_messages else [str] ,\n",
    ")"
   ],
   "metadata": {
    "collapsed": false,
    "ExecuteTime": {
     "end_time": "2024-10-03T12:59:19.439197400Z",
     "start_time": "2024-10-03T12:59:19.041353700Z"
    }
   }
  },
  {
   "cell_type": "code",
   "execution_count": 15,
   "outputs": [
    {
     "name": "stdout",
     "output_type": "stream",
     "text": [
      "안녕하세요! 은행 계좌를 개설하려면 먼저 해당 은행의 공식 웹사이트에 접속하셔야 합니다. 거기서 온라인 계좌 개설 서비스를 찾아보시면 됩니다. 보통 개인 정보, 신분증 사본, 주소지 확인서 등을 제출해야 합니다. 그리고 온라인 양식을 작성하고 필요한 정보를 입력하면 계좌 개설이 완료됩니다. 만약 도움이 필요하시다면 은행 고객센터에 문의하시는 것도 좋은 방법입니다. 혹시 어떤 은행을 이용하실 건가요?\n"
     ]
    }
   ],
   "source": [
    "# 대화를 시작합니다.\n",
    "response = conversation.predict(\n",
    "    input=\"안녕하세요, 비대면으로 은행 계좌를 개설하고 싶습니다. 어떻게 시작해야 하나요?\"\n",
    ")\n",
    "print(response)"
   ],
   "metadata": {
    "collapsed": false,
    "ExecuteTime": {
     "end_time": "2024-10-03T12:59:22.608716100Z",
     "start_time": "2024-10-03T12:59:19.521145700Z"
    }
   }
  },
  {
   "cell_type": "code",
   "execution_count": 16,
   "outputs": [
    {
     "name": "stdout",
     "output_type": "stream",
     "text": [
      "기업은행을 이용하시려면 먼저 기업은행의 공식 웹사이트에 접속하셔야 합니다. 거기서 온라인 계좌 개설 서비스를 찾아보시면 됩니다. 보통 개인 정보, 신분증 사본, 주소지 확인서 등을 제출해야 합니다. 그리고 온라인 양식을 작성하고 필요한 정보를 입력하면 계좌 개설이 완료됩니다. 만약 도움이 필요하시다면 기업은행 고객센터에 문의하시는 것도 좋은 방법입니다. 계좌 개설 후에는 인터넷 뱅킹 서비스를 통해 편리하게 계좌를 이용하실 수 있습니다. 계좌 개설 과정에서 어려움이 있으시면 언제든지 저에게 물어보세요!\n"
     ]
    }
   ],
   "source": [
    "response = conversation.predict(\n",
    "    input= \"기업은행을 이용하려고 합니다. 다음으로 무엇을 해야 하나요?\"\n",
    ")\n",
    "print(response)"
   ],
   "metadata": {
    "collapsed": false,
    "ExecuteTime": {
     "end_time": "2024-10-03T12:59:25.776729300Z",
     "start_time": "2024-10-03T12:59:22.612649200Z"
    }
   }
  },
  {
   "cell_type": "code",
   "execution_count": 17,
   "outputs": [
    {
     "name": "stdout",
     "output_type": "stream",
     "text": [
      "인터넷뱅킹의 장점은 여러 가지가 있습니다. 먼저, 언제 어디서나 24시간 내내 은행 업무를 처리할 수 있어 편리합니다. 또한, 온라인을 통해 계좌 잔액 확인, 이체, 결제, 대출 신청 등 다양한 은행 업무를 간편하게 처리할 수 있습니다. 더불어, 종이로 된 명세서나 영수증을 받지 않아도 되어 환경에도 도움이 됩니다. 또한, 보안 시스템이 강화되어 있어 안전하게 거래를 할 수 있습니다. 이렇게 인터넷뱅킹은 효율적이고 편리한 서비스를 제공합니다.\n"
     ]
    }
   ],
   "source": [
    "response = conversation.predict(\n",
    "    input= \"인터넷뱅킹의 장점은 무엇인가요?\"\n",
    ")\n",
    "print(response)"
   ],
   "metadata": {
    "collapsed": false,
    "ExecuteTime": {
     "end_time": "2024-10-03T12:59:29.163550400Z",
     "start_time": "2024-10-03T12:59:25.776729300Z"
    }
   }
  },
  {
   "cell_type": "code",
   "execution_count": 18,
   "outputs": [
    {
     "name": "stdout",
     "output_type": "stream",
     "text": [
      "카카오뱅킹으로 옮기시려면 먼저 카카오뱅킹 앱을 다운로드하셔야 합니다. 그 후에는 앱을 실행하여 계좌 이체나 개설을 진행하실 수 있습니다. 카카오뱅킹은 간편하고 빠른 서비스로 유명하며, 다양한 혜택과 편의성을 제공합니다. 이용하시면서 편리함을 느끼실 것입니다. 만약 도움이 필요하시다면 카카오뱅킹 고객센터에 문의하시는 것도 좋은 방법입니다. 계좌 이체나 개설 과정에서 어려움이 있으시면 언제든지 저에게 물어보세요!\n"
     ]
    }
   ],
   "source": [
    "response = conversation.predict(\n",
    "    input= \"카카오뱅킹으로 옮겨야 겠네요.\"\n",
    ")\n",
    "print(response)"
   ],
   "metadata": {
    "collapsed": false,
    "ExecuteTime": {
     "end_time": "2024-10-03T13:12:35.019708900Z",
     "start_time": "2024-10-03T13:12:31.829225800Z"
    }
   }
  },
  {
   "cell_type": "markdown",
   "source": [
    "# langsmith 확인!!!"
   ],
   "metadata": {
    "collapsed": false
   }
  }
 ],
 "metadata": {
  "kernelspec": {
   "display_name": "py-test",
   "language": "python",
   "name": "python3"
  },
  "language_info": {
   "codemirror_mode": {
    "name": "ipython",
    "version": 3
   },
   "file_extension": ".py",
   "mimetype": "text/x-python",
   "name": "python",
   "nbconvert_exporter": "python",
   "pygments_lexer": "ipython3",
   "version": "3.11.9"
  }
 },
 "nbformat": 4,
 "nbformat_minor": 2
}
