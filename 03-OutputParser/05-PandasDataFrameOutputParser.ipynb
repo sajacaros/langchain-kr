{
 "cells": [
  {
   "cell_type": "markdown",
   "id": "cc0d17f8",
   "metadata": {},
   "source": [
    "# PandasDataFrameOutputParser\n",
    "\n",
    "**Pandas DataFrame**은 Python 프로그래밍 언어에서 널리 사용되는 데이터 구조로, 데이터 조작 및 분석을 위한 강력한 도구입니다. DataFrame은 구조화된 데이터를 효과적으로 다루기 위한 포괄적인 도구 세트를 제공하며, 이를 통해 데이터 정제, 변환 및 분석과 같은 다양한 작업을 수행할 수 있습니다.\n",
    "\n",
    "이 **출력 파서**는 사용자가 임의의 Pandas DataFrame을 지정하여 해당 DataFrame에서 데이터를 추출하고, 이를 형식화된 사전(dictionary) 형태로 조회할 수 있게 해주는 LLM(Large Language Model) 기반 도구입니다.\n"
   ]
  },
  {
   "cell_type": "code",
   "execution_count": 1,
   "id": "de387034",
   "metadata": {
    "ExecuteTime": {
     "end_time": "2024-09-29T02:18:16.948683800Z",
     "start_time": "2024-09-29T02:18:16.931236900Z"
    }
   },
   "outputs": [
    {
     "data": {
      "text/plain": "True"
     },
     "execution_count": 1,
     "metadata": {},
     "output_type": "execute_result"
    }
   ],
   "source": [
    "from dotenv import load_dotenv\n",
    "\n",
    "load_dotenv()"
   ]
  },
  {
   "cell_type": "code",
   "execution_count": 2,
   "id": "fe9492a0",
   "metadata": {
    "ExecuteTime": {
     "end_time": "2024-09-29T02:18:17.533061Z",
     "start_time": "2024-09-29T02:18:17.517208600Z"
    }
   },
   "outputs": [
    {
     "name": "stdout",
     "output_type": "stream",
     "text": [
      "LangSmith 추적을 시작합니다.\n",
      "[프로젝트명]\n",
      "CH03-OutputParser\n"
     ]
    }
   ],
   "source": [
    "# LangSmith 추적을 설정합니다. https://smith.langchain.com\n",
    "# !pip install langchain-teddynote\n",
    "from langchain_teddynote import logging\n",
    "\n",
    "# 프로젝트 이름을 입력합니다.\n",
    "logging.langsmith(\"CH03-OutputParser\")"
   ]
  },
  {
   "cell_type": "code",
   "execution_count": 3,
   "id": "6c6d4c70",
   "metadata": {
    "ExecuteTime": {
     "end_time": "2024-09-29T02:18:21.003398800Z",
     "start_time": "2024-09-29T02:18:18.480040300Z"
    }
   },
   "outputs": [
    {
     "name": "stderr",
     "output_type": "stream",
     "text": [
      "C:\\Users\\dukim\\miniconda3\\Lib\\site-packages\\langchain\\output_parsers\\__init__.py:38: LangChainDeprecationWarning: As of langchain-core 0.3.0, LangChain uses pydantic v2 internally. The langchain_core.pydantic_v1 module was a compatibility shim for pydantic v1, and should no longer be used. Please update the code to import from Pydantic directly.\n",
      "\n",
      "For example, replace imports like: `from langchain_core.pydantic_v1 import BaseModel`\n",
      "with: `from pydantic import BaseModel`\n",
      "or the v1 compatibility namespace if you are working in a code base that has not been fully upgraded to pydantic 2 yet. \tfrom pydantic.v1 import BaseModel\n",
      "\n",
      "  from langchain.output_parsers.pandas_dataframe import PandasDataFrameOutputParser\n",
      "C:\\Users\\dukim\\miniconda3\\Lib\\site-packages\\pydantic\\_internal\\_config.py:341: UserWarning: Valid config keys have changed in V2:\n",
      "* 'allow_population_by_field_name' has been renamed to 'populate_by_name'\n",
      "  warnings.warn(message, UserWarning)\n"
     ]
    },
    {
     "ename": "PydanticUserError",
     "evalue": "The `__modify_schema__` method is not supported in Pydantic v2. Use `__get_pydantic_json_schema__` instead in class `SecretStr`.\n\nFor further information visit https://errors.pydantic.dev/2.9/u/custom-json-schema",
     "output_type": "error",
     "traceback": [
      "\u001B[1;31m---------------------------------------------------------------------------\u001B[0m",
      "\u001B[1;31mPydanticUserError\u001B[0m                         Traceback (most recent call last)",
      "Cell \u001B[1;32mIn[3], line 7\u001B[0m\n\u001B[0;32m      5\u001B[0m \u001B[38;5;28;01mfrom\u001B[39;00m \u001B[38;5;21;01mlangchain\u001B[39;00m\u001B[38;5;21;01m.\u001B[39;00m\u001B[38;5;21;01moutput_parsers\u001B[39;00m \u001B[38;5;28;01mimport\u001B[39;00m PandasDataFrameOutputParser\n\u001B[0;32m      6\u001B[0m \u001B[38;5;28;01mfrom\u001B[39;00m \u001B[38;5;21;01mlangchain_core\u001B[39;00m\u001B[38;5;21;01m.\u001B[39;00m\u001B[38;5;21;01mprompts\u001B[39;00m \u001B[38;5;28;01mimport\u001B[39;00m PromptTemplate\n\u001B[1;32m----> 7\u001B[0m \u001B[38;5;28;01mfrom\u001B[39;00m \u001B[38;5;21;01mlangchain_openai\u001B[39;00m \u001B[38;5;28;01mimport\u001B[39;00m ChatOpenAI\n",
      "File \u001B[1;32m~\\miniconda3\\Lib\\site-packages\\langchain_openai\\__init__.py:1\u001B[0m\n\u001B[1;32m----> 1\u001B[0m \u001B[38;5;28;01mfrom\u001B[39;00m \u001B[38;5;21;01mlangchain_openai\u001B[39;00m\u001B[38;5;21;01m.\u001B[39;00m\u001B[38;5;21;01mchat_models\u001B[39;00m \u001B[38;5;28;01mimport\u001B[39;00m AzureChatOpenAI, ChatOpenAI\n\u001B[0;32m      2\u001B[0m \u001B[38;5;28;01mfrom\u001B[39;00m \u001B[38;5;21;01mlangchain_openai\u001B[39;00m\u001B[38;5;21;01m.\u001B[39;00m\u001B[38;5;21;01membeddings\u001B[39;00m \u001B[38;5;28;01mimport\u001B[39;00m AzureOpenAIEmbeddings, OpenAIEmbeddings\n\u001B[0;32m      3\u001B[0m \u001B[38;5;28;01mfrom\u001B[39;00m \u001B[38;5;21;01mlangchain_openai\u001B[39;00m\u001B[38;5;21;01m.\u001B[39;00m\u001B[38;5;21;01mllms\u001B[39;00m \u001B[38;5;28;01mimport\u001B[39;00m AzureOpenAI, OpenAI\n",
      "File \u001B[1;32m~\\miniconda3\\Lib\\site-packages\\langchain_openai\\chat_models\\__init__.py:1\u001B[0m\n\u001B[1;32m----> 1\u001B[0m \u001B[38;5;28;01mfrom\u001B[39;00m \u001B[38;5;21;01mlangchain_openai\u001B[39;00m\u001B[38;5;21;01m.\u001B[39;00m\u001B[38;5;21;01mchat_models\u001B[39;00m\u001B[38;5;21;01m.\u001B[39;00m\u001B[38;5;21;01mazure\u001B[39;00m \u001B[38;5;28;01mimport\u001B[39;00m AzureChatOpenAI\n\u001B[0;32m      2\u001B[0m \u001B[38;5;28;01mfrom\u001B[39;00m \u001B[38;5;21;01mlangchain_openai\u001B[39;00m\u001B[38;5;21;01m.\u001B[39;00m\u001B[38;5;21;01mchat_models\u001B[39;00m\u001B[38;5;21;01m.\u001B[39;00m\u001B[38;5;21;01mbase\u001B[39;00m \u001B[38;5;28;01mimport\u001B[39;00m ChatOpenAI\n\u001B[0;32m      4\u001B[0m __all__ \u001B[38;5;241m=\u001B[39m [\u001B[38;5;124m\"\u001B[39m\u001B[38;5;124mChatOpenAI\u001B[39m\u001B[38;5;124m\"\u001B[39m, \u001B[38;5;124m\"\u001B[39m\u001B[38;5;124mAzureChatOpenAI\u001B[39m\u001B[38;5;124m\"\u001B[39m]\n",
      "File \u001B[1;32m~\\miniconda3\\Lib\\site-packages\\langchain_openai\\chat_models\\azure.py:41\u001B[0m\n\u001B[0;32m     38\u001B[0m \u001B[38;5;28;01mfrom\u001B[39;00m \u001B[38;5;21;01mlangchain_core\u001B[39;00m\u001B[38;5;21;01m.\u001B[39;00m\u001B[38;5;21;01mutils\u001B[39;00m\u001B[38;5;21;01m.\u001B[39;00m\u001B[38;5;21;01mfunction_calling\u001B[39;00m \u001B[38;5;28;01mimport\u001B[39;00m convert_to_openai_tool\n\u001B[0;32m     39\u001B[0m \u001B[38;5;28;01mfrom\u001B[39;00m \u001B[38;5;21;01mlangchain_core\u001B[39;00m\u001B[38;5;21;01m.\u001B[39;00m\u001B[38;5;21;01mutils\u001B[39;00m\u001B[38;5;21;01m.\u001B[39;00m\u001B[38;5;21;01mpydantic\u001B[39;00m \u001B[38;5;28;01mimport\u001B[39;00m is_basemodel_subclass\n\u001B[1;32m---> 41\u001B[0m \u001B[38;5;28;01mfrom\u001B[39;00m \u001B[38;5;21;01mlangchain_openai\u001B[39;00m\u001B[38;5;21;01m.\u001B[39;00m\u001B[38;5;21;01mchat_models\u001B[39;00m\u001B[38;5;21;01m.\u001B[39;00m\u001B[38;5;21;01mbase\u001B[39;00m \u001B[38;5;28;01mimport\u001B[39;00m BaseChatOpenAI\n\u001B[0;32m     43\u001B[0m logger \u001B[38;5;241m=\u001B[39m logging\u001B[38;5;241m.\u001B[39mgetLogger(\u001B[38;5;18m__name__\u001B[39m)\n\u001B[0;32m     46\u001B[0m _BM \u001B[38;5;241m=\u001B[39m TypeVar(\u001B[38;5;124m\"\u001B[39m\u001B[38;5;124m_BM\u001B[39m\u001B[38;5;124m\"\u001B[39m, bound\u001B[38;5;241m=\u001B[39mBaseModel)\n",
      "File \u001B[1;32m~\\miniconda3\\Lib\\site-packages\\langchain_openai\\chat_models\\base.py:353\u001B[0m\n\u001B[0;32m    349\u001B[0m     parsed: Optional[_DictOrPydantic]\n\u001B[0;32m    350\u001B[0m     parsing_error: Optional[\u001B[38;5;167;01mBaseException\u001B[39;00m]\n\u001B[1;32m--> 353\u001B[0m \u001B[38;5;28;43;01mclass\u001B[39;49;00m\u001B[43m \u001B[49m\u001B[38;5;21;43;01mBaseChatOpenAI\u001B[39;49;00m\u001B[43m(\u001B[49m\u001B[43mBaseChatModel\u001B[49m\u001B[43m)\u001B[49m\u001B[43m:\u001B[49m\n\u001B[0;32m    354\u001B[0m \u001B[43m    \u001B[49m\u001B[43mclient\u001B[49m\u001B[43m:\u001B[49m\u001B[43m \u001B[49m\u001B[43mAny\u001B[49m\u001B[43m \u001B[49m\u001B[38;5;241;43m=\u001B[39;49m\u001B[43m \u001B[49m\u001B[43mField\u001B[49m\u001B[43m(\u001B[49m\u001B[43mdefault\u001B[49m\u001B[38;5;241;43m=\u001B[39;49m\u001B[38;5;28;43;01mNone\u001B[39;49;00m\u001B[43m,\u001B[49m\u001B[43m \u001B[49m\u001B[43mexclude\u001B[49m\u001B[38;5;241;43m=\u001B[39;49m\u001B[38;5;28;43;01mTrue\u001B[39;49;00m\u001B[43m)\u001B[49m\u001B[43m  \u001B[49m\u001B[38;5;66;43;03m#: :meta private:\u001B[39;49;00m\n\u001B[0;32m    355\u001B[0m \u001B[43m    \u001B[49m\u001B[43masync_client\u001B[49m\u001B[43m:\u001B[49m\u001B[43m \u001B[49m\u001B[43mAny\u001B[49m\u001B[43m \u001B[49m\u001B[38;5;241;43m=\u001B[39;49m\u001B[43m \u001B[49m\u001B[43mField\u001B[49m\u001B[43m(\u001B[49m\u001B[43mdefault\u001B[49m\u001B[38;5;241;43m=\u001B[39;49m\u001B[38;5;28;43;01mNone\u001B[39;49;00m\u001B[43m,\u001B[49m\u001B[43m \u001B[49m\u001B[43mexclude\u001B[49m\u001B[38;5;241;43m=\u001B[39;49m\u001B[38;5;28;43;01mTrue\u001B[39;49;00m\u001B[43m)\u001B[49m\u001B[43m  \u001B[49m\u001B[38;5;66;43;03m#: :meta private:\u001B[39;49;00m\n",
      "File \u001B[1;32m~\\miniconda3\\Lib\\site-packages\\pydantic\\_internal\\_model_construction.py:223\u001B[0m, in \u001B[0;36mModelMetaclass.__new__\u001B[1;34m(mcs, cls_name, bases, namespace, __pydantic_generic_metadata__, __pydantic_reset_parent_namespace__, _create_model_module, **kwargs)\u001B[0m\n\u001B[0;32m    220\u001B[0m \u001B[38;5;28;01mif\u001B[39;00m config_wrapper\u001B[38;5;241m.\u001B[39mfrozen \u001B[38;5;129;01mand\u001B[39;00m \u001B[38;5;124m'\u001B[39m\u001B[38;5;124m__hash__\u001B[39m\u001B[38;5;124m'\u001B[39m \u001B[38;5;129;01mnot\u001B[39;00m \u001B[38;5;129;01min\u001B[39;00m namespace:\n\u001B[0;32m    221\u001B[0m     set_default_hash_func(\u001B[38;5;28mcls\u001B[39m, bases)\n\u001B[1;32m--> 223\u001B[0m \u001B[43mcomplete_model_class\u001B[49m\u001B[43m(\u001B[49m\n\u001B[0;32m    224\u001B[0m \u001B[43m    \u001B[49m\u001B[38;5;28;43mcls\u001B[39;49m\u001B[43m,\u001B[49m\n\u001B[0;32m    225\u001B[0m \u001B[43m    \u001B[49m\u001B[43mcls_name\u001B[49m\u001B[43m,\u001B[49m\n\u001B[0;32m    226\u001B[0m \u001B[43m    \u001B[49m\u001B[43mconfig_wrapper\u001B[49m\u001B[43m,\u001B[49m\n\u001B[0;32m    227\u001B[0m \u001B[43m    \u001B[49m\u001B[43mraise_errors\u001B[49m\u001B[38;5;241;43m=\u001B[39;49m\u001B[38;5;28;43;01mFalse\u001B[39;49;00m\u001B[43m,\u001B[49m\n\u001B[0;32m    228\u001B[0m \u001B[43m    \u001B[49m\u001B[43mtypes_namespace\u001B[49m\u001B[38;5;241;43m=\u001B[39;49m\u001B[43mtypes_namespace\u001B[49m\u001B[43m,\u001B[49m\n\u001B[0;32m    229\u001B[0m \u001B[43m    \u001B[49m\u001B[43mcreate_model_module\u001B[49m\u001B[38;5;241;43m=\u001B[39;49m\u001B[43m_create_model_module\u001B[49m\u001B[43m,\u001B[49m\n\u001B[0;32m    230\u001B[0m \u001B[43m\u001B[49m\u001B[43m)\u001B[49m\n\u001B[0;32m    232\u001B[0m \u001B[38;5;66;03m# If this is placed before the complete_model_class call above,\u001B[39;00m\n\u001B[0;32m    233\u001B[0m \u001B[38;5;66;03m# the generic computed fields return type is set to PydanticUndefined\u001B[39;00m\n\u001B[0;32m    234\u001B[0m \u001B[38;5;28mcls\u001B[39m\u001B[38;5;241m.\u001B[39mmodel_computed_fields \u001B[38;5;241m=\u001B[39m {k: v\u001B[38;5;241m.\u001B[39minfo \u001B[38;5;28;01mfor\u001B[39;00m k, v \u001B[38;5;129;01min\u001B[39;00m \u001B[38;5;28mcls\u001B[39m\u001B[38;5;241m.\u001B[39m__pydantic_decorators__\u001B[38;5;241m.\u001B[39mcomputed_fields\u001B[38;5;241m.\u001B[39mitems()}\n",
      "File \u001B[1;32m~\\miniconda3\\Lib\\site-packages\\pydantic\\_internal\\_model_construction.py:568\u001B[0m, in \u001B[0;36mcomplete_model_class\u001B[1;34m(cls, cls_name, config_wrapper, raise_errors, types_namespace, create_model_module)\u001B[0m\n\u001B[0;32m    565\u001B[0m     \u001B[38;5;28;01mreturn\u001B[39;00m \u001B[38;5;28;01mFalse\u001B[39;00m\n\u001B[0;32m    567\u001B[0m \u001B[38;5;28;01mtry\u001B[39;00m:\n\u001B[1;32m--> 568\u001B[0m     schema \u001B[38;5;241m=\u001B[39m \u001B[38;5;28;43mcls\u001B[39;49m\u001B[38;5;241;43m.\u001B[39;49m\u001B[43m__get_pydantic_core_schema__\u001B[49m\u001B[43m(\u001B[49m\u001B[38;5;28;43mcls\u001B[39;49m\u001B[43m,\u001B[49m\u001B[43m \u001B[49m\u001B[43mhandler\u001B[49m\u001B[43m)\u001B[49m\n\u001B[0;32m    569\u001B[0m \u001B[38;5;28;01mexcept\u001B[39;00m PydanticUndefinedAnnotation \u001B[38;5;28;01mas\u001B[39;00m e:\n\u001B[0;32m    570\u001B[0m     \u001B[38;5;28;01mif\u001B[39;00m raise_errors:\n",
      "File \u001B[1;32m~\\miniconda3\\Lib\\site-packages\\pydantic\\main.py:670\u001B[0m, in \u001B[0;36mBaseModel.__get_pydantic_core_schema__\u001B[1;34m(cls, source, handler)\u001B[0m\n\u001B[0;32m    667\u001B[0m     \u001B[38;5;28;01mif\u001B[39;00m \u001B[38;5;129;01mnot\u001B[39;00m \u001B[38;5;28mcls\u001B[39m\u001B[38;5;241m.\u001B[39m__pydantic_generic_metadata__[\u001B[38;5;124m'\u001B[39m\u001B[38;5;124morigin\u001B[39m\u001B[38;5;124m'\u001B[39m]:\n\u001B[0;32m    668\u001B[0m         \u001B[38;5;28;01mreturn\u001B[39;00m \u001B[38;5;28mcls\u001B[39m\u001B[38;5;241m.\u001B[39m__pydantic_core_schema__\n\u001B[1;32m--> 670\u001B[0m \u001B[38;5;28;01mreturn\u001B[39;00m \u001B[43mhandler\u001B[49m\u001B[43m(\u001B[49m\u001B[43msource\u001B[49m\u001B[43m)\u001B[49m\n",
      "File \u001B[1;32m~\\miniconda3\\Lib\\site-packages\\pydantic\\_internal\\_schema_generation_shared.py:83\u001B[0m, in \u001B[0;36mCallbackGetCoreSchemaHandler.__call__\u001B[1;34m(self, source_type)\u001B[0m\n\u001B[0;32m     82\u001B[0m \u001B[38;5;28;01mdef\u001B[39;00m \u001B[38;5;21m__call__\u001B[39m(\u001B[38;5;28mself\u001B[39m, source_type: Any, \u001B[38;5;241m/\u001B[39m) \u001B[38;5;241m-\u001B[39m\u001B[38;5;241m>\u001B[39m core_schema\u001B[38;5;241m.\u001B[39mCoreSchema:\n\u001B[1;32m---> 83\u001B[0m     schema \u001B[38;5;241m=\u001B[39m \u001B[38;5;28;43mself\u001B[39;49m\u001B[38;5;241;43m.\u001B[39;49m\u001B[43m_handler\u001B[49m\u001B[43m(\u001B[49m\u001B[43msource_type\u001B[49m\u001B[43m)\u001B[49m\n\u001B[0;32m     84\u001B[0m     ref \u001B[38;5;241m=\u001B[39m schema\u001B[38;5;241m.\u001B[39mget(\u001B[38;5;124m'\u001B[39m\u001B[38;5;124mref\u001B[39m\u001B[38;5;124m'\u001B[39m)\n\u001B[0;32m     85\u001B[0m     \u001B[38;5;28;01mif\u001B[39;00m \u001B[38;5;28mself\u001B[39m\u001B[38;5;241m.\u001B[39m_ref_mode \u001B[38;5;241m==\u001B[39m \u001B[38;5;124m'\u001B[39m\u001B[38;5;124mto-def\u001B[39m\u001B[38;5;124m'\u001B[39m:\n",
      "File \u001B[1;32m~\\miniconda3\\Lib\\site-packages\\pydantic\\_internal\\_generate_schema.py:655\u001B[0m, in \u001B[0;36mGenerateSchema.generate_schema\u001B[1;34m(self, obj, from_dunder_get_core_schema)\u001B[0m\n\u001B[0;32m    652\u001B[0m         schema \u001B[38;5;241m=\u001B[39m from_property\n\u001B[0;32m    654\u001B[0m \u001B[38;5;28;01mif\u001B[39;00m schema \u001B[38;5;129;01mis\u001B[39;00m \u001B[38;5;28;01mNone\u001B[39;00m:\n\u001B[1;32m--> 655\u001B[0m     schema \u001B[38;5;241m=\u001B[39m \u001B[38;5;28;43mself\u001B[39;49m\u001B[38;5;241;43m.\u001B[39;49m\u001B[43m_generate_schema_inner\u001B[49m\u001B[43m(\u001B[49m\u001B[43mobj\u001B[49m\u001B[43m)\u001B[49m\n\u001B[0;32m    657\u001B[0m metadata_js_function \u001B[38;5;241m=\u001B[39m _extract_get_pydantic_json_schema(obj, schema)\n\u001B[0;32m    658\u001B[0m \u001B[38;5;28;01mif\u001B[39;00m metadata_js_function \u001B[38;5;129;01mis\u001B[39;00m \u001B[38;5;129;01mnot\u001B[39;00m \u001B[38;5;28;01mNone\u001B[39;00m:\n",
      "File \u001B[1;32m~\\miniconda3\\Lib\\site-packages\\pydantic\\_internal\\_generate_schema.py:924\u001B[0m, in \u001B[0;36mGenerateSchema._generate_schema_inner\u001B[1;34m(self, obj)\u001B[0m\n\u001B[0;32m    922\u001B[0m \u001B[38;5;28;01mif\u001B[39;00m lenient_issubclass(obj, BaseModel):\n\u001B[0;32m    923\u001B[0m     \u001B[38;5;28;01mwith\u001B[39;00m \u001B[38;5;28mself\u001B[39m\u001B[38;5;241m.\u001B[39mmodel_type_stack\u001B[38;5;241m.\u001B[39mpush(obj):\n\u001B[1;32m--> 924\u001B[0m         \u001B[38;5;28;01mreturn\u001B[39;00m \u001B[38;5;28;43mself\u001B[39;49m\u001B[38;5;241;43m.\u001B[39;49m\u001B[43m_model_schema\u001B[49m\u001B[43m(\u001B[49m\u001B[43mobj\u001B[49m\u001B[43m)\u001B[49m\n\u001B[0;32m    926\u001B[0m \u001B[38;5;28;01mif\u001B[39;00m \u001B[38;5;28misinstance\u001B[39m(obj, PydanticRecursiveRef):\n\u001B[0;32m    927\u001B[0m     \u001B[38;5;28;01mreturn\u001B[39;00m core_schema\u001B[38;5;241m.\u001B[39mdefinition_reference_schema(schema_ref\u001B[38;5;241m=\u001B[39mobj\u001B[38;5;241m.\u001B[39mtype_ref)\n",
      "File \u001B[1;32m~\\miniconda3\\Lib\\site-packages\\pydantic\\_internal\\_generate_schema.py:739\u001B[0m, in \u001B[0;36mGenerateSchema._model_schema\u001B[1;34m(self, cls)\u001B[0m\n\u001B[0;32m    727\u001B[0m     model_schema \u001B[38;5;241m=\u001B[39m core_schema\u001B[38;5;241m.\u001B[39mmodel_schema(\n\u001B[0;32m    728\u001B[0m         \u001B[38;5;28mcls\u001B[39m,\n\u001B[0;32m    729\u001B[0m         inner_schema,\n\u001B[1;32m   (...)\u001B[0m\n\u001B[0;32m    735\u001B[0m         metadata\u001B[38;5;241m=\u001B[39mmetadata,\n\u001B[0;32m    736\u001B[0m     )\n\u001B[0;32m    737\u001B[0m \u001B[38;5;28;01melse\u001B[39;00m:\n\u001B[0;32m    738\u001B[0m     fields_schema: core_schema\u001B[38;5;241m.\u001B[39mCoreSchema \u001B[38;5;241m=\u001B[39m core_schema\u001B[38;5;241m.\u001B[39mmodel_fields_schema(\n\u001B[1;32m--> 739\u001B[0m         \u001B[43m{\u001B[49m\u001B[43mk\u001B[49m\u001B[43m:\u001B[49m\u001B[43m \u001B[49m\u001B[38;5;28;43mself\u001B[39;49m\u001B[38;5;241;43m.\u001B[39;49m\u001B[43m_generate_md_field_schema\u001B[49m\u001B[43m(\u001B[49m\u001B[43mk\u001B[49m\u001B[43m,\u001B[49m\u001B[43m \u001B[49m\u001B[43mv\u001B[49m\u001B[43m,\u001B[49m\u001B[43m \u001B[49m\u001B[43mdecorators\u001B[49m\u001B[43m)\u001B[49m\u001B[43m \u001B[49m\u001B[38;5;28;43;01mfor\u001B[39;49;00m\u001B[43m \u001B[49m\u001B[43mk\u001B[49m\u001B[43m,\u001B[49m\u001B[43m \u001B[49m\u001B[43mv\u001B[49m\u001B[43m \u001B[49m\u001B[38;5;129;43;01min\u001B[39;49;00m\u001B[43m \u001B[49m\u001B[43mfields\u001B[49m\u001B[38;5;241;43m.\u001B[39;49m\u001B[43mitems\u001B[49m\u001B[43m(\u001B[49m\u001B[43m)\u001B[49m\u001B[43m}\u001B[49m,\n\u001B[0;32m    740\u001B[0m         computed_fields\u001B[38;5;241m=\u001B[39m[\n\u001B[0;32m    741\u001B[0m             \u001B[38;5;28mself\u001B[39m\u001B[38;5;241m.\u001B[39m_computed_field_schema(d, decorators\u001B[38;5;241m.\u001B[39mfield_serializers)\n\u001B[0;32m    742\u001B[0m             \u001B[38;5;28;01mfor\u001B[39;00m d \u001B[38;5;129;01min\u001B[39;00m computed_fields\u001B[38;5;241m.\u001B[39mvalues()\n\u001B[0;32m    743\u001B[0m         ],\n\u001B[0;32m    744\u001B[0m         extras_schema\u001B[38;5;241m=\u001B[39mextras_schema,\n\u001B[0;32m    745\u001B[0m         model_name\u001B[38;5;241m=\u001B[39m\u001B[38;5;28mcls\u001B[39m\u001B[38;5;241m.\u001B[39m\u001B[38;5;18m__name__\u001B[39m,\n\u001B[0;32m    746\u001B[0m     )\n\u001B[0;32m    747\u001B[0m     inner_schema \u001B[38;5;241m=\u001B[39m apply_validators(fields_schema, decorators\u001B[38;5;241m.\u001B[39mroot_validators\u001B[38;5;241m.\u001B[39mvalues(), \u001B[38;5;28;01mNone\u001B[39;00m)\n\u001B[0;32m    748\u001B[0m     new_inner_schema \u001B[38;5;241m=\u001B[39m define_expected_missing_refs(inner_schema, recursively_defined_type_refs())\n",
      "File \u001B[1;32m~\\miniconda3\\Lib\\site-packages\\pydantic\\_internal\\_generate_schema.py:739\u001B[0m, in \u001B[0;36m<dictcomp>\u001B[1;34m(.0)\u001B[0m\n\u001B[0;32m    727\u001B[0m     model_schema \u001B[38;5;241m=\u001B[39m core_schema\u001B[38;5;241m.\u001B[39mmodel_schema(\n\u001B[0;32m    728\u001B[0m         \u001B[38;5;28mcls\u001B[39m,\n\u001B[0;32m    729\u001B[0m         inner_schema,\n\u001B[1;32m   (...)\u001B[0m\n\u001B[0;32m    735\u001B[0m         metadata\u001B[38;5;241m=\u001B[39mmetadata,\n\u001B[0;32m    736\u001B[0m     )\n\u001B[0;32m    737\u001B[0m \u001B[38;5;28;01melse\u001B[39;00m:\n\u001B[0;32m    738\u001B[0m     fields_schema: core_schema\u001B[38;5;241m.\u001B[39mCoreSchema \u001B[38;5;241m=\u001B[39m core_schema\u001B[38;5;241m.\u001B[39mmodel_fields_schema(\n\u001B[1;32m--> 739\u001B[0m         {k: \u001B[38;5;28;43mself\u001B[39;49m\u001B[38;5;241;43m.\u001B[39;49m\u001B[43m_generate_md_field_schema\u001B[49m\u001B[43m(\u001B[49m\u001B[43mk\u001B[49m\u001B[43m,\u001B[49m\u001B[43m \u001B[49m\u001B[43mv\u001B[49m\u001B[43m,\u001B[49m\u001B[43m \u001B[49m\u001B[43mdecorators\u001B[49m\u001B[43m)\u001B[49m \u001B[38;5;28;01mfor\u001B[39;00m k, v \u001B[38;5;129;01min\u001B[39;00m fields\u001B[38;5;241m.\u001B[39mitems()},\n\u001B[0;32m    740\u001B[0m         computed_fields\u001B[38;5;241m=\u001B[39m[\n\u001B[0;32m    741\u001B[0m             \u001B[38;5;28mself\u001B[39m\u001B[38;5;241m.\u001B[39m_computed_field_schema(d, decorators\u001B[38;5;241m.\u001B[39mfield_serializers)\n\u001B[0;32m    742\u001B[0m             \u001B[38;5;28;01mfor\u001B[39;00m d \u001B[38;5;129;01min\u001B[39;00m computed_fields\u001B[38;5;241m.\u001B[39mvalues()\n\u001B[0;32m    743\u001B[0m         ],\n\u001B[0;32m    744\u001B[0m         extras_schema\u001B[38;5;241m=\u001B[39mextras_schema,\n\u001B[0;32m    745\u001B[0m         model_name\u001B[38;5;241m=\u001B[39m\u001B[38;5;28mcls\u001B[39m\u001B[38;5;241m.\u001B[39m\u001B[38;5;18m__name__\u001B[39m,\n\u001B[0;32m    746\u001B[0m     )\n\u001B[0;32m    747\u001B[0m     inner_schema \u001B[38;5;241m=\u001B[39m apply_validators(fields_schema, decorators\u001B[38;5;241m.\u001B[39mroot_validators\u001B[38;5;241m.\u001B[39mvalues(), \u001B[38;5;28;01mNone\u001B[39;00m)\n\u001B[0;32m    748\u001B[0m     new_inner_schema \u001B[38;5;241m=\u001B[39m define_expected_missing_refs(inner_schema, recursively_defined_type_refs())\n",
      "File \u001B[1;32m~\\miniconda3\\Lib\\site-packages\\pydantic\\_internal\\_generate_schema.py:1115\u001B[0m, in \u001B[0;36mGenerateSchema._generate_md_field_schema\u001B[1;34m(self, name, field_info, decorators)\u001B[0m\n\u001B[0;32m   1108\u001B[0m \u001B[38;5;28;01mdef\u001B[39;00m \u001B[38;5;21m_generate_md_field_schema\u001B[39m(\n\u001B[0;32m   1109\u001B[0m     \u001B[38;5;28mself\u001B[39m,\n\u001B[0;32m   1110\u001B[0m     name: \u001B[38;5;28mstr\u001B[39m,\n\u001B[0;32m   1111\u001B[0m     field_info: FieldInfo,\n\u001B[0;32m   1112\u001B[0m     decorators: DecoratorInfos,\n\u001B[0;32m   1113\u001B[0m ) \u001B[38;5;241m-\u001B[39m\u001B[38;5;241m>\u001B[39m core_schema\u001B[38;5;241m.\u001B[39mModelField:\n\u001B[0;32m   1114\u001B[0m \u001B[38;5;250m    \u001B[39m\u001B[38;5;124;03m\"\"\"Prepare a ModelField to represent a model field.\"\"\"\u001B[39;00m\n\u001B[1;32m-> 1115\u001B[0m     common_field \u001B[38;5;241m=\u001B[39m \u001B[38;5;28;43mself\u001B[39;49m\u001B[38;5;241;43m.\u001B[39;49m\u001B[43m_common_field_schema\u001B[49m\u001B[43m(\u001B[49m\u001B[43mname\u001B[49m\u001B[43m,\u001B[49m\u001B[43m \u001B[49m\u001B[43mfield_info\u001B[49m\u001B[43m,\u001B[49m\u001B[43m \u001B[49m\u001B[43mdecorators\u001B[49m\u001B[43m)\u001B[49m\n\u001B[0;32m   1116\u001B[0m     \u001B[38;5;28;01mreturn\u001B[39;00m core_schema\u001B[38;5;241m.\u001B[39mmodel_field(\n\u001B[0;32m   1117\u001B[0m         common_field[\u001B[38;5;124m'\u001B[39m\u001B[38;5;124mschema\u001B[39m\u001B[38;5;124m'\u001B[39m],\n\u001B[0;32m   1118\u001B[0m         serialization_exclude\u001B[38;5;241m=\u001B[39mcommon_field[\u001B[38;5;124m'\u001B[39m\u001B[38;5;124mserialization_exclude\u001B[39m\u001B[38;5;124m'\u001B[39m],\n\u001B[1;32m   (...)\u001B[0m\n\u001B[0;32m   1122\u001B[0m         metadata\u001B[38;5;241m=\u001B[39mcommon_field[\u001B[38;5;124m'\u001B[39m\u001B[38;5;124mmetadata\u001B[39m\u001B[38;5;124m'\u001B[39m],\n\u001B[0;32m   1123\u001B[0m     )\n",
      "File \u001B[1;32m~\\miniconda3\\Lib\\site-packages\\pydantic\\_internal\\_generate_schema.py:1308\u001B[0m, in \u001B[0;36mGenerateSchema._common_field_schema\u001B[1;34m(self, name, field_info, decorators)\u001B[0m\n\u001B[0;32m   1304\u001B[0m         schema \u001B[38;5;241m=\u001B[39m \u001B[38;5;28mself\u001B[39m\u001B[38;5;241m.\u001B[39m_apply_annotations(\n\u001B[0;32m   1305\u001B[0m             source_type, annotations \u001B[38;5;241m+\u001B[39m validators_from_decorators, transform_inner_schema\u001B[38;5;241m=\u001B[39mset_discriminator\n\u001B[0;32m   1306\u001B[0m         )\n\u001B[0;32m   1307\u001B[0m     \u001B[38;5;28;01melse\u001B[39;00m:\n\u001B[1;32m-> 1308\u001B[0m         schema \u001B[38;5;241m=\u001B[39m \u001B[38;5;28;43mself\u001B[39;49m\u001B[38;5;241;43m.\u001B[39;49m\u001B[43m_apply_annotations\u001B[49m\u001B[43m(\u001B[49m\n\u001B[0;32m   1309\u001B[0m \u001B[43m            \u001B[49m\u001B[43msource_type\u001B[49m\u001B[43m,\u001B[49m\n\u001B[0;32m   1310\u001B[0m \u001B[43m            \u001B[49m\u001B[43mannotations\u001B[49m\u001B[43m \u001B[49m\u001B[38;5;241;43m+\u001B[39;49m\u001B[43m \u001B[49m\u001B[43mvalidators_from_decorators\u001B[49m\u001B[43m,\u001B[49m\n\u001B[0;32m   1311\u001B[0m \u001B[43m        \u001B[49m\u001B[43m)\u001B[49m\n\u001B[0;32m   1313\u001B[0m \u001B[38;5;66;03m# This V1 compatibility shim should eventually be removed\u001B[39;00m\n\u001B[0;32m   1314\u001B[0m \u001B[38;5;66;03m# push down any `each_item=True` validators\u001B[39;00m\n\u001B[0;32m   1315\u001B[0m \u001B[38;5;66;03m# note that this won't work for any Annotated types that get wrapped by a function validator\u001B[39;00m\n\u001B[0;32m   1316\u001B[0m \u001B[38;5;66;03m# but that's okay because that didn't exist in V1\u001B[39;00m\n\u001B[0;32m   1317\u001B[0m this_field_validators \u001B[38;5;241m=\u001B[39m filter_field_decorator_info_by_field(decorators\u001B[38;5;241m.\u001B[39mvalidators\u001B[38;5;241m.\u001B[39mvalues(), name)\n",
      "File \u001B[1;32m~\\miniconda3\\Lib\\site-packages\\pydantic\\_internal\\_generate_schema.py:2104\u001B[0m, in \u001B[0;36mGenerateSchema._apply_annotations\u001B[1;34m(self, source_type, annotations, transform_inner_schema)\u001B[0m\n\u001B[0;32m   2099\u001B[0m         \u001B[38;5;28;01mcontinue\u001B[39;00m\n\u001B[0;32m   2100\u001B[0m     get_inner_schema \u001B[38;5;241m=\u001B[39m \u001B[38;5;28mself\u001B[39m\u001B[38;5;241m.\u001B[39m_get_wrapped_inner_schema(\n\u001B[0;32m   2101\u001B[0m         get_inner_schema, annotation, pydantic_js_annotation_functions\n\u001B[0;32m   2102\u001B[0m     )\n\u001B[1;32m-> 2104\u001B[0m schema \u001B[38;5;241m=\u001B[39m \u001B[43mget_inner_schema\u001B[49m\u001B[43m(\u001B[49m\u001B[43msource_type\u001B[49m\u001B[43m)\u001B[49m\n\u001B[0;32m   2105\u001B[0m \u001B[38;5;28;01mif\u001B[39;00m pydantic_js_annotation_functions:\n\u001B[0;32m   2106\u001B[0m     metadata \u001B[38;5;241m=\u001B[39m CoreMetadataHandler(schema)\u001B[38;5;241m.\u001B[39mmetadata\n",
      "File \u001B[1;32m~\\miniconda3\\Lib\\site-packages\\pydantic\\_internal\\_schema_generation_shared.py:83\u001B[0m, in \u001B[0;36mCallbackGetCoreSchemaHandler.__call__\u001B[1;34m(self, source_type)\u001B[0m\n\u001B[0;32m     82\u001B[0m \u001B[38;5;28;01mdef\u001B[39;00m \u001B[38;5;21m__call__\u001B[39m(\u001B[38;5;28mself\u001B[39m, source_type: Any, \u001B[38;5;241m/\u001B[39m) \u001B[38;5;241m-\u001B[39m\u001B[38;5;241m>\u001B[39m core_schema\u001B[38;5;241m.\u001B[39mCoreSchema:\n\u001B[1;32m---> 83\u001B[0m     schema \u001B[38;5;241m=\u001B[39m \u001B[38;5;28;43mself\u001B[39;49m\u001B[38;5;241;43m.\u001B[39;49m\u001B[43m_handler\u001B[49m\u001B[43m(\u001B[49m\u001B[43msource_type\u001B[49m\u001B[43m)\u001B[49m\n\u001B[0;32m     84\u001B[0m     ref \u001B[38;5;241m=\u001B[39m schema\u001B[38;5;241m.\u001B[39mget(\u001B[38;5;124m'\u001B[39m\u001B[38;5;124mref\u001B[39m\u001B[38;5;124m'\u001B[39m)\n\u001B[0;32m     85\u001B[0m     \u001B[38;5;28;01mif\u001B[39;00m \u001B[38;5;28mself\u001B[39m\u001B[38;5;241m.\u001B[39m_ref_mode \u001B[38;5;241m==\u001B[39m \u001B[38;5;124m'\u001B[39m\u001B[38;5;124mto-def\u001B[39m\u001B[38;5;124m'\u001B[39m:\n",
      "File \u001B[1;32m~\\miniconda3\\Lib\\site-packages\\pydantic\\_internal\\_generate_schema.py:2085\u001B[0m, in \u001B[0;36mGenerateSchema._apply_annotations.<locals>.inner_handler\u001B[1;34m(obj)\u001B[0m\n\u001B[0;32m   2083\u001B[0m from_property \u001B[38;5;241m=\u001B[39m \u001B[38;5;28mself\u001B[39m\u001B[38;5;241m.\u001B[39m_generate_schema_from_property(obj, source_type)\n\u001B[0;32m   2084\u001B[0m \u001B[38;5;28;01mif\u001B[39;00m from_property \u001B[38;5;129;01mis\u001B[39;00m \u001B[38;5;28;01mNone\u001B[39;00m:\n\u001B[1;32m-> 2085\u001B[0m     schema \u001B[38;5;241m=\u001B[39m \u001B[38;5;28;43mself\u001B[39;49m\u001B[38;5;241;43m.\u001B[39;49m\u001B[43m_generate_schema_inner\u001B[49m\u001B[43m(\u001B[49m\u001B[43mobj\u001B[49m\u001B[43m)\u001B[49m\n\u001B[0;32m   2086\u001B[0m \u001B[38;5;28;01melse\u001B[39;00m:\n\u001B[0;32m   2087\u001B[0m     schema \u001B[38;5;241m=\u001B[39m from_property\n",
      "File \u001B[1;32m~\\miniconda3\\Lib\\site-packages\\pydantic\\_internal\\_generate_schema.py:929\u001B[0m, in \u001B[0;36mGenerateSchema._generate_schema_inner\u001B[1;34m(self, obj)\u001B[0m\n\u001B[0;32m    926\u001B[0m \u001B[38;5;28;01mif\u001B[39;00m \u001B[38;5;28misinstance\u001B[39m(obj, PydanticRecursiveRef):\n\u001B[0;32m    927\u001B[0m     \u001B[38;5;28;01mreturn\u001B[39;00m core_schema\u001B[38;5;241m.\u001B[39mdefinition_reference_schema(schema_ref\u001B[38;5;241m=\u001B[39mobj\u001B[38;5;241m.\u001B[39mtype_ref)\n\u001B[1;32m--> 929\u001B[0m \u001B[38;5;28;01mreturn\u001B[39;00m \u001B[38;5;28;43mself\u001B[39;49m\u001B[38;5;241;43m.\u001B[39;49m\u001B[43mmatch_type\u001B[49m\u001B[43m(\u001B[49m\u001B[43mobj\u001B[49m\u001B[43m)\u001B[49m\n",
      "File \u001B[1;32m~\\miniconda3\\Lib\\site-packages\\pydantic\\_internal\\_generate_schema.py:1029\u001B[0m, in \u001B[0;36mGenerateSchema.match_type\u001B[1;34m(self, obj)\u001B[0m\n\u001B[0;32m   1027\u001B[0m origin \u001B[38;5;241m=\u001B[39m get_origin(obj)\n\u001B[0;32m   1028\u001B[0m \u001B[38;5;28;01mif\u001B[39;00m origin \u001B[38;5;129;01mis\u001B[39;00m \u001B[38;5;129;01mnot\u001B[39;00m \u001B[38;5;28;01mNone\u001B[39;00m:\n\u001B[1;32m-> 1029\u001B[0m     \u001B[38;5;28;01mreturn\u001B[39;00m \u001B[38;5;28;43mself\u001B[39;49m\u001B[38;5;241;43m.\u001B[39;49m\u001B[43m_match_generic_type\u001B[49m\u001B[43m(\u001B[49m\u001B[43mobj\u001B[49m\u001B[43m,\u001B[49m\u001B[43m \u001B[49m\u001B[43morigin\u001B[49m\u001B[43m)\u001B[49m\n\u001B[0;32m   1031\u001B[0m res \u001B[38;5;241m=\u001B[39m \u001B[38;5;28mself\u001B[39m\u001B[38;5;241m.\u001B[39m_get_prepare_pydantic_annotations_for_known_type(obj, ())\n\u001B[0;32m   1032\u001B[0m \u001B[38;5;28;01mif\u001B[39;00m res \u001B[38;5;129;01mis\u001B[39;00m \u001B[38;5;129;01mnot\u001B[39;00m \u001B[38;5;28;01mNone\u001B[39;00m:\n",
      "File \u001B[1;32m~\\miniconda3\\Lib\\site-packages\\pydantic\\_internal\\_generate_schema.py:1058\u001B[0m, in \u001B[0;36mGenerateSchema._match_generic_type\u001B[1;34m(self, obj, origin)\u001B[0m\n\u001B[0;32m   1055\u001B[0m     \u001B[38;5;28;01mreturn\u001B[39;00m from_property\n\u001B[0;32m   1057\u001B[0m \u001B[38;5;28;01mif\u001B[39;00m _typing_extra\u001B[38;5;241m.\u001B[39morigin_is_union(origin):\n\u001B[1;32m-> 1058\u001B[0m     \u001B[38;5;28;01mreturn\u001B[39;00m \u001B[38;5;28;43mself\u001B[39;49m\u001B[38;5;241;43m.\u001B[39;49m\u001B[43m_union_schema\u001B[49m\u001B[43m(\u001B[49m\u001B[43mobj\u001B[49m\u001B[43m)\u001B[49m\n\u001B[0;32m   1059\u001B[0m \u001B[38;5;28;01melif\u001B[39;00m origin \u001B[38;5;129;01min\u001B[39;00m TUPLE_TYPES:\n\u001B[0;32m   1060\u001B[0m     \u001B[38;5;28;01mreturn\u001B[39;00m \u001B[38;5;28mself\u001B[39m\u001B[38;5;241m.\u001B[39m_tuple_schema(obj)\n",
      "File \u001B[1;32m~\\miniconda3\\Lib\\site-packages\\pydantic\\_internal\\_generate_schema.py:1378\u001B[0m, in \u001B[0;36mGenerateSchema._union_schema\u001B[1;34m(self, union_type)\u001B[0m\n\u001B[0;32m   1376\u001B[0m         nullable \u001B[38;5;241m=\u001B[39m \u001B[38;5;28;01mTrue\u001B[39;00m\n\u001B[0;32m   1377\u001B[0m     \u001B[38;5;28;01melse\u001B[39;00m:\n\u001B[1;32m-> 1378\u001B[0m         choices\u001B[38;5;241m.\u001B[39mappend(\u001B[38;5;28;43mself\u001B[39;49m\u001B[38;5;241;43m.\u001B[39;49m\u001B[43mgenerate_schema\u001B[49m\u001B[43m(\u001B[49m\u001B[43marg\u001B[49m\u001B[43m)\u001B[49m)\n\u001B[0;32m   1380\u001B[0m \u001B[38;5;28;01mif\u001B[39;00m \u001B[38;5;28mlen\u001B[39m(choices) \u001B[38;5;241m==\u001B[39m \u001B[38;5;241m1\u001B[39m:\n\u001B[0;32m   1381\u001B[0m     s \u001B[38;5;241m=\u001B[39m choices[\u001B[38;5;241m0\u001B[39m]\n",
      "File \u001B[1;32m~\\miniconda3\\Lib\\site-packages\\pydantic\\_internal\\_generate_schema.py:657\u001B[0m, in \u001B[0;36mGenerateSchema.generate_schema\u001B[1;34m(self, obj, from_dunder_get_core_schema)\u001B[0m\n\u001B[0;32m    654\u001B[0m \u001B[38;5;28;01mif\u001B[39;00m schema \u001B[38;5;129;01mis\u001B[39;00m \u001B[38;5;28;01mNone\u001B[39;00m:\n\u001B[0;32m    655\u001B[0m     schema \u001B[38;5;241m=\u001B[39m \u001B[38;5;28mself\u001B[39m\u001B[38;5;241m.\u001B[39m_generate_schema_inner(obj)\n\u001B[1;32m--> 657\u001B[0m metadata_js_function \u001B[38;5;241m=\u001B[39m \u001B[43m_extract_get_pydantic_json_schema\u001B[49m\u001B[43m(\u001B[49m\u001B[43mobj\u001B[49m\u001B[43m,\u001B[49m\u001B[43m \u001B[49m\u001B[43mschema\u001B[49m\u001B[43m)\u001B[49m\n\u001B[0;32m    658\u001B[0m \u001B[38;5;28;01mif\u001B[39;00m metadata_js_function \u001B[38;5;129;01mis\u001B[39;00m \u001B[38;5;129;01mnot\u001B[39;00m \u001B[38;5;28;01mNone\u001B[39;00m:\n\u001B[0;32m    659\u001B[0m     metadata_schema \u001B[38;5;241m=\u001B[39m resolve_original_schema(schema, \u001B[38;5;28mself\u001B[39m\u001B[38;5;241m.\u001B[39mdefs\u001B[38;5;241m.\u001B[39mdefinitions)\n",
      "File \u001B[1;32m~\\miniconda3\\Lib\\site-packages\\pydantic\\_internal\\_generate_schema.py:2444\u001B[0m, in \u001B[0;36m_extract_get_pydantic_json_schema\u001B[1;34m(tp, schema)\u001B[0m\n\u001B[0;32m   2442\u001B[0m     \u001B[38;5;28;01mif\u001B[39;00m \u001B[38;5;129;01mnot\u001B[39;00m has_custom_v2_modify_js_func:\n\u001B[0;32m   2443\u001B[0m         cls_name \u001B[38;5;241m=\u001B[39m \u001B[38;5;28mgetattr\u001B[39m(tp, \u001B[38;5;124m'\u001B[39m\u001B[38;5;124m__name__\u001B[39m\u001B[38;5;124m'\u001B[39m, \u001B[38;5;28;01mNone\u001B[39;00m)\n\u001B[1;32m-> 2444\u001B[0m         \u001B[38;5;28;01mraise\u001B[39;00m PydanticUserError(\n\u001B[0;32m   2445\u001B[0m             \u001B[38;5;124mf\u001B[39m\u001B[38;5;124m'\u001B[39m\u001B[38;5;124mThe `__modify_schema__` method is not supported in Pydantic v2. \u001B[39m\u001B[38;5;124m'\u001B[39m\n\u001B[0;32m   2446\u001B[0m             \u001B[38;5;124mf\u001B[39m\u001B[38;5;124m'\u001B[39m\u001B[38;5;124mUse `__get_pydantic_json_schema__` instead\u001B[39m\u001B[38;5;132;01m{\u001B[39;00m\u001B[38;5;124mf\u001B[39m\u001B[38;5;124m\"\u001B[39m\u001B[38;5;124m in class `\u001B[39m\u001B[38;5;132;01m{\u001B[39;00mcls_name\u001B[38;5;132;01m}\u001B[39;00m\u001B[38;5;124m`\u001B[39m\u001B[38;5;124m\"\u001B[39m\u001B[38;5;250m \u001B[39m\u001B[38;5;28;01mif\u001B[39;00m\u001B[38;5;250m \u001B[39mcls_name\u001B[38;5;250m \u001B[39m\u001B[38;5;28;01melse\u001B[39;00m\u001B[38;5;250m \u001B[39m\u001B[38;5;124m\"\u001B[39m\u001B[38;5;124m\"\u001B[39m\u001B[38;5;132;01m}\u001B[39;00m\u001B[38;5;124m.\u001B[39m\u001B[38;5;124m'\u001B[39m,\n\u001B[0;32m   2447\u001B[0m             code\u001B[38;5;241m=\u001B[39m\u001B[38;5;124m'\u001B[39m\u001B[38;5;124mcustom-json-schema\u001B[39m\u001B[38;5;124m'\u001B[39m,\n\u001B[0;32m   2448\u001B[0m         )\n\u001B[0;32m   2450\u001B[0m \u001B[38;5;66;03m# handle GenericAlias' but ignore Annotated which \"lies\" about its origin (in this case it would be `int`)\u001B[39;00m\n\u001B[0;32m   2451\u001B[0m \u001B[38;5;28;01mif\u001B[39;00m \u001B[38;5;28mhasattr\u001B[39m(tp, \u001B[38;5;124m'\u001B[39m\u001B[38;5;124m__origin__\u001B[39m\u001B[38;5;124m'\u001B[39m) \u001B[38;5;129;01mand\u001B[39;00m \u001B[38;5;129;01mnot\u001B[39;00m is_annotated(tp):\n",
      "\u001B[1;31mPydanticUserError\u001B[0m: The `__modify_schema__` method is not supported in Pydantic v2. Use `__get_pydantic_json_schema__` instead in class `SecretStr`.\n\nFor further information visit https://errors.pydantic.dev/2.9/u/custom-json-schema"
     ]
    }
   ],
   "source": [
    "import pprint\n",
    "from typing import Any, Dict\n",
    "\n",
    "import pandas as pd\n",
    "from langchain.output_parsers import PandasDataFrameOutputParser\n",
    "from langchain_core.prompts import PromptTemplate\n",
    "from langchain_openai import ChatOpenAI"
   ]
  },
  {
   "cell_type": "code",
   "execution_count": 4,
   "id": "8a500317",
   "metadata": {
    "ExecuteTime": {
     "end_time": "2024-09-28T16:39:11.658676100Z",
     "start_time": "2024-09-28T16:39:11.239733300Z"
    }
   },
   "outputs": [],
   "source": [
    "# ChatOpenAI 모델 초기화 (gpt-3.5-turbo 모델 사용을 권장합니다)\n",
    "model = ChatOpenAI(temperature=0, model_name=\"gpt-3.5-turbo\")"
   ]
  },
  {
   "cell_type": "markdown",
   "id": "38a9f23d",
   "metadata": {},
   "source": [
    "`format_parser_output` 함수는 파서 출력을 사전 형식으로 변환하고 출력 형식을 지정하는 데 사용됩니다. "
   ]
  },
  {
   "cell_type": "code",
   "execution_count": 5,
   "id": "d3dadcb4",
   "metadata": {
    "ExecuteTime": {
     "end_time": "2024-09-28T16:41:28.428407100Z",
     "start_time": "2024-09-28T16:41:28.412570500Z"
    }
   },
   "outputs": [],
   "source": [
    "# 출력 목적으로만 사용됩니다.\n",
    "def format_parser_output(parser_output: Dict[str, Any]) -> None:\n",
    "    # 파서 출력의 키들을 순회합니다.\n",
    "    for key in parser_output.keys():\n",
    "        # 각 키의 값을 딕셔너리로 변환합니다.\n",
    "        parser_output[key] = parser_output[key].to_dict()\n",
    "    # 예쁘게 출력합니다.\n",
    "    return pprint.PrettyPrinter(width=4, compact=True).pprint(parser_output)"
   ]
  },
  {
   "cell_type": "markdown",
   "id": "f2dca1ed",
   "metadata": {},
   "source": [
    "- `titanic.csv` 데이터를 읽어온 뒤 DataFrame 을 로드하여 `df` 변수에 할당합니다.\n",
    "- PandasDataFrameOutputParser를 사용하여 DataFrame을 파싱합니다.\n"
   ]
  },
  {
   "cell_type": "code",
   "execution_count": 6,
   "id": "f4228af1",
   "metadata": {
    "ExecuteTime": {
     "end_time": "2024-09-28T16:41:30.975325800Z",
     "start_time": "2024-09-28T16:41:30.918907800Z"
    }
   },
   "outputs": [
    {
     "data": {
      "text/plain": "   PassengerId  Survived  Pclass  \\\n0            1         0       3   \n1            2         1       1   \n2            3         1       3   \n3            4         1       1   \n4            5         0       3   \n\n                                                Name     Sex   Age  SibSp  \\\n0                            Braund, Mr. Owen Harris    male  22.0      1   \n1  Cumings, Mrs. John Bradley (Florence Briggs Th...  female  38.0      1   \n2                             Heikkinen, Miss. Laina  female  26.0      0   \n3       Futrelle, Mrs. Jacques Heath (Lily May Peel)  female  35.0      1   \n4                           Allen, Mr. William Henry    male  35.0      0   \n\n   Parch            Ticket     Fare Cabin Embarked  \n0      0         A/5 21171   7.2500   NaN        S  \n1      0          PC 17599  71.2833   C85        C  \n2      0  STON/O2. 3101282   7.9250   NaN        S  \n3      0            113803  53.1000  C123        S  \n4      0            373450   8.0500   NaN        S  ",
      "text/html": "<div>\n<style scoped>\n    .dataframe tbody tr th:only-of-type {\n        vertical-align: middle;\n    }\n\n    .dataframe tbody tr th {\n        vertical-align: top;\n    }\n\n    .dataframe thead th {\n        text-align: right;\n    }\n</style>\n<table border=\"1\" class=\"dataframe\">\n  <thead>\n    <tr style=\"text-align: right;\">\n      <th></th>\n      <th>PassengerId</th>\n      <th>Survived</th>\n      <th>Pclass</th>\n      <th>Name</th>\n      <th>Sex</th>\n      <th>Age</th>\n      <th>SibSp</th>\n      <th>Parch</th>\n      <th>Ticket</th>\n      <th>Fare</th>\n      <th>Cabin</th>\n      <th>Embarked</th>\n    </tr>\n  </thead>\n  <tbody>\n    <tr>\n      <th>0</th>\n      <td>1</td>\n      <td>0</td>\n      <td>3</td>\n      <td>Braund, Mr. Owen Harris</td>\n      <td>male</td>\n      <td>22.0</td>\n      <td>1</td>\n      <td>0</td>\n      <td>A/5 21171</td>\n      <td>7.2500</td>\n      <td>NaN</td>\n      <td>S</td>\n    </tr>\n    <tr>\n      <th>1</th>\n      <td>2</td>\n      <td>1</td>\n      <td>1</td>\n      <td>Cumings, Mrs. John Bradley (Florence Briggs Th...</td>\n      <td>female</td>\n      <td>38.0</td>\n      <td>1</td>\n      <td>0</td>\n      <td>PC 17599</td>\n      <td>71.2833</td>\n      <td>C85</td>\n      <td>C</td>\n    </tr>\n    <tr>\n      <th>2</th>\n      <td>3</td>\n      <td>1</td>\n      <td>3</td>\n      <td>Heikkinen, Miss. Laina</td>\n      <td>female</td>\n      <td>26.0</td>\n      <td>0</td>\n      <td>0</td>\n      <td>STON/O2. 3101282</td>\n      <td>7.9250</td>\n      <td>NaN</td>\n      <td>S</td>\n    </tr>\n    <tr>\n      <th>3</th>\n      <td>4</td>\n      <td>1</td>\n      <td>1</td>\n      <td>Futrelle, Mrs. Jacques Heath (Lily May Peel)</td>\n      <td>female</td>\n      <td>35.0</td>\n      <td>1</td>\n      <td>0</td>\n      <td>113803</td>\n      <td>53.1000</td>\n      <td>C123</td>\n      <td>S</td>\n    </tr>\n    <tr>\n      <th>4</th>\n      <td>5</td>\n      <td>0</td>\n      <td>3</td>\n      <td>Allen, Mr. William Henry</td>\n      <td>male</td>\n      <td>35.0</td>\n      <td>0</td>\n      <td>0</td>\n      <td>373450</td>\n      <td>8.0500</td>\n      <td>NaN</td>\n      <td>S</td>\n    </tr>\n  </tbody>\n</table>\n</div>"
     },
     "execution_count": 6,
     "metadata": {},
     "output_type": "execute_result"
    }
   ],
   "source": [
    "# 원하는 Pandas DataFrame을 정의합니다.\n",
    "df = pd.read_csv(\"./data/titanic.csv\")\n",
    "df.head()"
   ]
  },
  {
   "cell_type": "code",
   "execution_count": 15,
   "outputs": [
    {
     "data": {
      "text/plain": "       PassengerId   Survived     Pclass        Age      SibSp      Parch  \\\ncount     20.00000  20.000000  20.000000  17.000000  20.000000  20.000000   \nmean      10.50000   0.500000   2.450000  28.000000   0.700000   0.500000   \nstd        5.91608   0.512989   0.825578  17.779904   1.080935   1.192079   \nmin        1.00000   0.000000   1.000000   2.000000   0.000000   0.000000   \n25%        5.75000   0.000000   2.000000  14.000000   0.000000   0.000000   \n50%       10.50000   0.500000   3.000000  27.000000   0.000000   0.000000   \n75%       15.25000   1.000000   3.000000  38.000000   1.000000   0.250000   \nmax       20.00000   1.000000   3.000000  58.000000   4.000000   5.000000   \n\n            Fare  \ncount  20.000000  \nmean   22.199370  \nstd    18.058888  \nmin     7.225000  \n25%     8.050000  \n50%    16.350000  \n75%    29.361450  \nmax    71.283300  ",
      "text/html": "<div>\n<style scoped>\n    .dataframe tbody tr th:only-of-type {\n        vertical-align: middle;\n    }\n\n    .dataframe tbody tr th {\n        vertical-align: top;\n    }\n\n    .dataframe thead th {\n        text-align: right;\n    }\n</style>\n<table border=\"1\" class=\"dataframe\">\n  <thead>\n    <tr style=\"text-align: right;\">\n      <th></th>\n      <th>PassengerId</th>\n      <th>Survived</th>\n      <th>Pclass</th>\n      <th>Age</th>\n      <th>SibSp</th>\n      <th>Parch</th>\n      <th>Fare</th>\n    </tr>\n  </thead>\n  <tbody>\n    <tr>\n      <th>count</th>\n      <td>20.00000</td>\n      <td>20.000000</td>\n      <td>20.000000</td>\n      <td>17.000000</td>\n      <td>20.000000</td>\n      <td>20.000000</td>\n      <td>20.000000</td>\n    </tr>\n    <tr>\n      <th>mean</th>\n      <td>10.50000</td>\n      <td>0.500000</td>\n      <td>2.450000</td>\n      <td>28.000000</td>\n      <td>0.700000</td>\n      <td>0.500000</td>\n      <td>22.199370</td>\n    </tr>\n    <tr>\n      <th>std</th>\n      <td>5.91608</td>\n      <td>0.512989</td>\n      <td>0.825578</td>\n      <td>17.779904</td>\n      <td>1.080935</td>\n      <td>1.192079</td>\n      <td>18.058888</td>\n    </tr>\n    <tr>\n      <th>min</th>\n      <td>1.00000</td>\n      <td>0.000000</td>\n      <td>1.000000</td>\n      <td>2.000000</td>\n      <td>0.000000</td>\n      <td>0.000000</td>\n      <td>7.225000</td>\n    </tr>\n    <tr>\n      <th>25%</th>\n      <td>5.75000</td>\n      <td>0.000000</td>\n      <td>2.000000</td>\n      <td>14.000000</td>\n      <td>0.000000</td>\n      <td>0.000000</td>\n      <td>8.050000</td>\n    </tr>\n    <tr>\n      <th>50%</th>\n      <td>10.50000</td>\n      <td>0.500000</td>\n      <td>3.000000</td>\n      <td>27.000000</td>\n      <td>0.000000</td>\n      <td>0.000000</td>\n      <td>16.350000</td>\n    </tr>\n    <tr>\n      <th>75%</th>\n      <td>15.25000</td>\n      <td>1.000000</td>\n      <td>3.000000</td>\n      <td>38.000000</td>\n      <td>1.000000</td>\n      <td>0.250000</td>\n      <td>29.361450</td>\n    </tr>\n    <tr>\n      <th>max</th>\n      <td>20.00000</td>\n      <td>1.000000</td>\n      <td>3.000000</td>\n      <td>58.000000</td>\n      <td>4.000000</td>\n      <td>5.000000</td>\n      <td>71.283300</td>\n    </tr>\n  </tbody>\n</table>\n</div>"
     },
     "execution_count": 15,
     "metadata": {},
     "output_type": "execute_result"
    }
   ],
   "source": [
    "df.describe()"
   ],
   "metadata": {
    "collapsed": false,
    "ExecuteTime": {
     "end_time": "2024-09-28T16:48:06.783475100Z",
     "start_time": "2024-09-28T16:48:06.752368400Z"
    }
   },
   "id": "14703dbb5865fbd1"
  },
  {
   "cell_type": "code",
   "execution_count": 7,
   "id": "436f7dea",
   "metadata": {
    "ExecuteTime": {
     "end_time": "2024-09-28T16:41:40.969391800Z",
     "start_time": "2024-09-28T16:41:40.945091900Z"
    }
   },
   "outputs": [
    {
     "name": "stdout",
     "output_type": "stream",
     "text": [
      "The output should be formatted as a string as the operation, followed by a colon, followed by the column or row to be queried on, followed by optional array parameters.\n",
      "1. The column names are limited to the possible columns below.\n",
      "2. Arrays must either be a comma-separated list of numbers formatted as [1,3,5], or it must be in range of numbers formatted as [0..4].\n",
      "3. Remember that arrays are optional and not necessarily required.\n",
      "4. If the column is not in the possible columns or the operation is not a valid Pandas DataFrame operation, return why it is invalid as a sentence starting with either \"Invalid column\" or \"Invalid operation\".\n",
      "\n",
      "As an example, for the formats:\n",
      "1. String \"column:num_legs\" is a well-formatted instance which gets the column num_legs, where num_legs is a possible column.\n",
      "2. String \"row:1\" is a well-formatted instance which gets row 1.\n",
      "3. String \"column:num_legs[1,2]\" is a well-formatted instance which gets the column num_legs for rows 1 and 2, where num_legs is a possible column.\n",
      "4. String \"row:1[num_legs]\" is a well-formatted instance which gets row 1, but for just column num_legs, where num_legs is a possible column.\n",
      "5. String \"mean:num_legs[1..3]\" is a well-formatted instance which takes the mean of num_legs from rows 1 to 3, where num_legs is a possible column and mean is a valid Pandas DataFrame operation.\n",
      "6. String \"do_something:num_legs\" is a badly-formatted instance, where do_something is not a valid Pandas DataFrame operation.\n",
      "7. String \"mean:invalid_col\" is a badly-formatted instance, where invalid_col is not a possible column.\n",
      "\n",
      "Here are the possible columns:\n",
      "```\n",
      "PassengerId, Survived, Pclass, Name, Sex, Age, SibSp, Parch, Ticket, Fare, Cabin, Embarked\n",
      "```\n"
     ]
    }
   ],
   "source": [
    "# 파서를 설정하고 프롬프트 템플릿에 지시사항을 주입합니다.\n",
    "parser = PandasDataFrameOutputParser(dataframe=df)\n",
    "\n",
    "# 파서의 지시사항을 출력합니다.\n",
    "print(parser.get_format_instructions())"
   ]
  },
  {
   "cell_type": "markdown",
   "id": "bd2699de",
   "metadata": {},
   "source": [
    "컬럼에 대한 값을 조회하는 예제입니다."
   ]
  },
  {
   "cell_type": "code",
   "execution_count": 17,
   "id": "9a62ac959ca4493",
   "metadata": {
    "ExecuteTime": {
     "end_time": "2024-09-28T17:01:31.441695700Z",
     "start_time": "2024-09-28T17:01:30.944256400Z"
    }
   },
   "outputs": [
    {
     "data": {
      "text/plain": "AIMessage(content='column:Age', additional_kwargs={'refusal': None}, response_metadata={'token_usage': {'completion_tokens': 3, 'prompt_tokens': 453, 'total_tokens': 456, 'completion_tokens_details': {'reasoning_tokens': 0}}, 'model_name': 'gpt-3.5-turbo-0125', 'system_fingerprint': None, 'finish_reason': 'stop', 'logprobs': None}, id='run-63d4b6c3-533f-462a-8987-653c82c969ae-0', usage_metadata={'input_tokens': 453, 'output_tokens': 3, 'total_tokens': 456})"
     },
     "execution_count": 17,
     "metadata": {},
     "output_type": "execute_result"
    }
   ],
   "source": [
    "# 열 작업 예시입니다.\n",
    "df_query = \"Age column 을 조회해 주세요.\"\n",
    "\n",
    "\n",
    "# 프롬프트 템플릿을 설정합니다.\n",
    "prompt = PromptTemplate(\n",
    "    template=\"Answer the user query.\\n{format_instructions}\\n{question}\\n\",\n",
    "    input_variables=[\"question\"],  # 입력 변수 설정\n",
    "    partial_variables={\n",
    "        \"format_instructions\": parser.get_format_instructions()\n",
    "    },  # 부분 변수 설정\n",
    ")\n",
    "\n",
    "# 체인 생성\n",
    "chain = prompt | model | parser\n",
    "\n",
    "# 체인 실행\n",
    "parser_output = chain.invoke({\"question\": df_query})\n",
    "parser_output"
   ]
  },
  {
   "cell_type": "code",
   "execution_count": 8,
   "outputs": [
    {
     "name": "stdout",
     "output_type": "stream",
     "text": [
      "{'Age': {0: 22.0,\n",
      "         1: 38.0,\n",
      "         2: 26.0,\n",
      "         3: 35.0,\n",
      "         4: 35.0,\n",
      "         5: nan,\n",
      "         6: 54.0,\n",
      "         7: 2.0,\n",
      "         8: 27.0,\n",
      "         9: 14.0,\n",
      "         10: 4.0,\n",
      "         11: 58.0,\n",
      "         12: 20.0,\n",
      "         13: 39.0,\n",
      "         14: 14.0,\n",
      "         15: 55.0,\n",
      "         16: 2.0,\n",
      "         17: nan,\n",
      "         18: 31.0,\n",
      "         19: nan}}\n"
     ]
    }
   ],
   "source": [
    "# 출력\n",
    "format_parser_output(parser_output)"
   ],
   "metadata": {
    "collapsed": false,
    "ExecuteTime": {
     "start_time": "2024-09-28T16:44:36.325716900Z"
    }
   },
   "id": "42688b23"
  },
  {
   "cell_type": "markdown",
   "id": "d4dd6636",
   "metadata": {},
   "source": [
    "첫 번째 행을 검색하는 예시입니다."
   ]
  },
  {
   "cell_type": "code",
   "execution_count": 18,
   "id": "867ced38",
   "metadata": {
    "ExecuteTime": {
     "end_time": "2024-09-28T17:02:32.249479600Z",
     "start_time": "2024-09-28T17:02:31.724425900Z"
    }
   },
   "outputs": [
    {
     "data": {
      "text/plain": "AIMessage(content='row:0', additional_kwargs={'refusal': None}, response_metadata={'token_usage': {'completion_tokens': 3, 'prompt_tokens': 449, 'total_tokens': 452, 'completion_tokens_details': {'reasoning_tokens': 0}}, 'model_name': 'gpt-3.5-turbo-0125', 'system_fingerprint': None, 'finish_reason': 'stop', 'logprobs': None}, id='run-0ede1e70-2506-4a26-a892-643c90eda9b4-0', usage_metadata={'input_tokens': 449, 'output_tokens': 3, 'total_tokens': 452})"
     },
     "execution_count": 18,
     "metadata": {},
     "output_type": "execute_result"
    }
   ],
   "source": [
    "# 행 조회 예시입니다.\n",
    "df_query = \"Retrieve the first row.\"\n",
    "\n",
    "# 체인 실행\n",
    "parser_output = chain.invoke({\"question\": df_query})\n",
    "# 결과 출력\n",
    "format_parser_output(parser_output)"
   ]
  },
  {
   "cell_type": "markdown",
   "id": "a936bdcd",
   "metadata": {},
   "source": [
    "특정 열에서 일부 행의 평균을 검색하는 작업 예제입니다."
   ]
  },
  {
   "cell_type": "code",
   "execution_count": 10,
   "id": "e479306f",
   "metadata": {
    "ExecuteTime": {
     "end_time": "2024-09-28T16:46:55.262786200Z",
     "start_time": "2024-09-28T16:46:55.231468900Z"
    }
   },
   "outputs": [
    {
     "data": {
      "text/plain": "31.2"
     },
     "execution_count": 10,
     "metadata": {},
     "output_type": "execute_result"
    }
   ],
   "source": [
    "# row 0 ~ 4의 평균 나이를 구합니다.\n",
    "df[\"Age\"].head().mean()"
   ]
  },
  {
   "cell_type": "code",
   "execution_count": 11,
   "id": "a26883b4",
   "metadata": {
    "ExecuteTime": {
     "end_time": "2024-09-28T16:46:56.721190300Z",
     "start_time": "2024-09-28T16:46:56.157232100Z"
    }
   },
   "outputs": [
    {
     "name": "stdout",
     "output_type": "stream",
     "text": [
      "{'mean': 31.2}\n"
     ]
    }
   ],
   "source": [
    "# 임의의 Pandas DataFrame 작업 예시, 행의 수를 제한합니다.\n",
    "df_query = \"Retrieve the average of the Ages from row 0 to 4.\"\n",
    "\n",
    "# 체인 실행\n",
    "parser_output = chain.invoke({\"question\": df_query})\n",
    "\n",
    "# 결과 출력\n",
    "print(parser_output)"
   ]
  },
  {
   "cell_type": "markdown",
   "id": "62e97f39",
   "metadata": {},
   "source": [
    "다음은 요금(Fare) 에 대한 평균 가격을 산정하는 예시입니다."
   ]
  },
  {
   "cell_type": "code",
   "execution_count": 12,
   "id": "743b51ef",
   "metadata": {
    "ExecuteTime": {
     "end_time": "2024-09-28T16:47:15.505512100Z",
     "start_time": "2024-09-28T16:47:15.489829500Z"
    }
   },
   "outputs": [
    {
     "data": {
      "text/plain": "   PassengerId  Survived  Pclass  \\\n0            1         0       3   \n1            2         1       1   \n2            3         1       3   \n3            4         1       1   \n4            5         0       3   \n\n                                                Name     Sex   Age  SibSp  \\\n0                            Braund, Mr. Owen Harris    male  22.0      1   \n1  Cumings, Mrs. John Bradley (Florence Briggs Th...  female  38.0      1   \n2                             Heikkinen, Miss. Laina  female  26.0      0   \n3       Futrelle, Mrs. Jacques Heath (Lily May Peel)  female  35.0      1   \n4                           Allen, Mr. William Henry    male  35.0      0   \n\n   Parch            Ticket     Fare Cabin Embarked  \n0      0         A/5 21171   7.2500   NaN        S  \n1      0          PC 17599  71.2833   C85        C  \n2      0  STON/O2. 3101282   7.9250   NaN        S  \n3      0            113803  53.1000  C123        S  \n4      0            373450   8.0500   NaN        S  ",
      "text/html": "<div>\n<style scoped>\n    .dataframe tbody tr th:only-of-type {\n        vertical-align: middle;\n    }\n\n    .dataframe tbody tr th {\n        vertical-align: top;\n    }\n\n    .dataframe thead th {\n        text-align: right;\n    }\n</style>\n<table border=\"1\" class=\"dataframe\">\n  <thead>\n    <tr style=\"text-align: right;\">\n      <th></th>\n      <th>PassengerId</th>\n      <th>Survived</th>\n      <th>Pclass</th>\n      <th>Name</th>\n      <th>Sex</th>\n      <th>Age</th>\n      <th>SibSp</th>\n      <th>Parch</th>\n      <th>Ticket</th>\n      <th>Fare</th>\n      <th>Cabin</th>\n      <th>Embarked</th>\n    </tr>\n  </thead>\n  <tbody>\n    <tr>\n      <th>0</th>\n      <td>1</td>\n      <td>0</td>\n      <td>3</td>\n      <td>Braund, Mr. Owen Harris</td>\n      <td>male</td>\n      <td>22.0</td>\n      <td>1</td>\n      <td>0</td>\n      <td>A/5 21171</td>\n      <td>7.2500</td>\n      <td>NaN</td>\n      <td>S</td>\n    </tr>\n    <tr>\n      <th>1</th>\n      <td>2</td>\n      <td>1</td>\n      <td>1</td>\n      <td>Cumings, Mrs. John Bradley (Florence Briggs Th...</td>\n      <td>female</td>\n      <td>38.0</td>\n      <td>1</td>\n      <td>0</td>\n      <td>PC 17599</td>\n      <td>71.2833</td>\n      <td>C85</td>\n      <td>C</td>\n    </tr>\n    <tr>\n      <th>2</th>\n      <td>3</td>\n      <td>1</td>\n      <td>3</td>\n      <td>Heikkinen, Miss. Laina</td>\n      <td>female</td>\n      <td>26.0</td>\n      <td>0</td>\n      <td>0</td>\n      <td>STON/O2. 3101282</td>\n      <td>7.9250</td>\n      <td>NaN</td>\n      <td>S</td>\n    </tr>\n    <tr>\n      <th>3</th>\n      <td>4</td>\n      <td>1</td>\n      <td>1</td>\n      <td>Futrelle, Mrs. Jacques Heath (Lily May Peel)</td>\n      <td>female</td>\n      <td>35.0</td>\n      <td>1</td>\n      <td>0</td>\n      <td>113803</td>\n      <td>53.1000</td>\n      <td>C123</td>\n      <td>S</td>\n    </tr>\n    <tr>\n      <th>4</th>\n      <td>5</td>\n      <td>0</td>\n      <td>3</td>\n      <td>Allen, Mr. William Henry</td>\n      <td>male</td>\n      <td>35.0</td>\n      <td>0</td>\n      <td>0</td>\n      <td>373450</td>\n      <td>8.0500</td>\n      <td>NaN</td>\n      <td>S</td>\n    </tr>\n  </tbody>\n</table>\n</div>"
     },
     "execution_count": 12,
     "metadata": {},
     "output_type": "execute_result"
    }
   ],
   "source": [
    "df.head()"
   ]
  },
  {
   "cell_type": "code",
   "execution_count": 19,
   "id": "68a97d89",
   "metadata": {
    "ExecuteTime": {
     "end_time": "2024-09-28T17:05:17.395457600Z",
     "start_time": "2024-09-28T17:05:16.865160800Z"
    }
   },
   "outputs": [
    {
     "name": "stdout",
     "output_type": "stream",
     "text": [
      "content='mean:Fare' additional_kwargs={'refusal': None} response_metadata={'token_usage': {'completion_tokens': 3, 'prompt_tokens': 452, 'total_tokens': 455, 'completion_tokens_details': {'reasoning_tokens': 0}}, 'model_name': 'gpt-3.5-turbo-0125', 'system_fingerprint': None, 'finish_reason': 'stop', 'logprobs': None} id='run-5ed4800e-9c67-4d22-b16f-f79198260f02-0' usage_metadata={'input_tokens': 452, 'output_tokens': 3, 'total_tokens': 455}\n"
     ]
    }
   ],
   "source": [
    "# 잘못 형식화된 쿼리의 예시입니다.\n",
    "df_query = \"Calculate average `Fare` rate.\"\n",
    "\n",
    "# 체인 실행\n",
    "parser_output = chain.invoke({\"question\": df_query})\n",
    "\n",
    "# 결과 출력\n",
    "print(parser_output)"
   ]
  },
  {
   "cell_type": "code",
   "execution_count": 14,
   "id": "d7dd2f2b",
   "metadata": {
    "ExecuteTime": {
     "end_time": "2024-09-28T16:47:18.655569400Z",
     "start_time": "2024-09-28T16:47:18.623946400Z"
    }
   },
   "outputs": [
    {
     "data": {
      "text/plain": "22.19937"
     },
     "execution_count": 14,
     "metadata": {},
     "output_type": "execute_result"
    }
   ],
   "source": [
    "# 결과 검증\n",
    "df[\"Fare\"].mean()"
   ]
  },
  {
   "cell_type": "code",
   "execution_count": null,
   "outputs": [],
   "source": [],
   "metadata": {
    "collapsed": false
   },
   "id": "4dca283a39ee5ae1"
  }
 ],
 "metadata": {
  "kernelspec": {
   "display_name": "py-test",
   "language": "python",
   "name": "python3"
  },
  "language_info": {
   "codemirror_mode": {
    "name": "ipython",
    "version": 3
   },
   "file_extension": ".py",
   "mimetype": "text/x-python",
   "name": "python",
   "nbconvert_exporter": "python",
   "pygments_lexer": "ipython3",
   "version": "3.11.9"
  }
 },
 "nbformat": 4,
 "nbformat_minor": 5
}
