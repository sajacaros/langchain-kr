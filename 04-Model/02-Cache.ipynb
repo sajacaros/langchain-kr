{
 "cells": [
  {
   "cell_type": "markdown",
   "metadata": {},
   "source": [
    "## 캐싱(Caching)\n",
    "\n",
    "LangChain은 LLM을 위한 선택적 캐싱 레이어를 제공합니다.\n",
    "\n",
    "이는 두 가지 이유로 유용합니다.\n",
    "\n",
    "- 동일한 완료를 여러 번 요청하는 경우 LLM 공급자에 대한 **API 호출 횟수를 줄여 비용을 절감**할 수 있습니다.\n",
    "- LLM 제공업체에 대한 **API 호출 횟수를 줄여 애플리케이션의 속도를 높일 수** 있습니다."
   ]
  },
  {
   "cell_type": "code",
   "execution_count": 1,
   "metadata": {
    "ExecuteTime": {
     "end_time": "2024-09-28T17:59:22.037637900Z",
     "start_time": "2024-09-28T17:59:22.006178500Z"
    }
   },
   "outputs": [
    {
     "data": {
      "text/plain": "True"
     },
     "execution_count": 1,
     "metadata": {},
     "output_type": "execute_result"
    }
   ],
   "source": [
    "# API KEY를 환경변수로 관리하기 위한 설정 파일\n",
    "from dotenv import load_dotenv\n",
    "\n",
    "# API KEY 정보로드\n",
    "load_dotenv()"
   ]
  },
  {
   "cell_type": "code",
   "execution_count": 2,
   "metadata": {
    "ExecuteTime": {
     "end_time": "2024-09-28T17:59:22.039364800Z",
     "start_time": "2024-09-28T17:59:22.031626600Z"
    }
   },
   "outputs": [
    {
     "name": "stdout",
     "output_type": "stream",
     "text": [
      "LangSmith 추적을 시작합니다.\n",
      "[프로젝트명]\n",
      "CH04-Models\n"
     ]
    }
   ],
   "source": [
    "# LangSmith 추적을 설정합니다. https://smith.langchain.com\n",
    "# !pip install langchain-teddynote\n",
    "from langchain_teddynote import logging\n",
    "\n",
    "# 프로젝트 이름을 입력합니다.\n",
    "logging.langsmith(\"CH04-Models\")"
   ]
  },
  {
   "cell_type": "markdown",
   "metadata": {},
   "source": [
    "모델과 프롬프트를 생성합니다\n"
   ]
  },
  {
   "cell_type": "code",
   "execution_count": 3,
   "metadata": {
    "ExecuteTime": {
     "end_time": "2024-09-28T17:59:23.784081700Z",
     "start_time": "2024-09-28T17:59:22.257562200Z"
    }
   },
   "outputs": [],
   "source": [
    "from langchain_openai import ChatOpenAI\n",
    "from langchain_core.prompts import PromptTemplate\n",
    "\n",
    "# 모델을 생성합니다.\n",
    "llm = ChatOpenAI(model_name=\"gpt-3.5-turbo\")\n",
    "\n",
    "# 프롬프트를 생성합니다.\n",
    "prompt = PromptTemplate.from_template(\"{country} 에 대해서 200자 내외로 요약해줘\")\n",
    "\n",
    "# 체인을 생성합니다.\n",
    "chain = prompt | llm"
   ]
  },
  {
   "cell_type": "code",
   "execution_count": 4,
   "metadata": {
    "ExecuteTime": {
     "end_time": "2024-09-28T17:59:28.103814900Z",
     "start_time": "2024-09-28T17:59:24.569267500Z"
    }
   },
   "outputs": [
    {
     "name": "stdout",
     "output_type": "stream",
     "text": [
      "한국은 동아시아에 위치한 백만 도민의 나라로, 고대부터 현재까지 다양한 역사와 문화를 자랑한다. 주요 도시는 수도인 서울을 비롯해 부산, 대구, 인천 등이 있으며, 경제적으로는 세계적으로 강력한 식품, 기술 및 자동차 산업을 보유하고 있다. 한류 열풍으로 인해 한국 문화는 전 세계적으로 인기를 끌고 있으며, K-pop, K-drama, 한식 등이 세계 각지에서 사랑받고 있다. 한반도 북쪽에는 북한이 있으며, 남쪽에는 한국이 위치해 있으며, 두 나라 간에는 여전히 긴장 관계가 이어지고 있다. 현재는 코로나19 대응을 비롯한 다양한 사회적 문제들에 대처하면서 미래를 준비하고 있다.\n",
      "CPU times: total: 62.5 ms\n",
      "Wall time: 3.52 s\n"
     ]
    }
   ],
   "source": [
    "%%time \n",
    "response = chain.invoke({\"country\": \"한국\"})\n",
    "print(response.content)"
   ]
  },
  {
   "cell_type": "markdown",
   "metadata": {},
   "source": [
    "## InMemoryCache\n",
    "\n",
    "인메모리 캐시를 사용하여 동일 질문에 대한 답변을 저장하고, 캐시에 저장된 답변을 반환합니다."
   ]
  },
  {
   "cell_type": "code",
   "execution_count": 5,
   "metadata": {
    "ExecuteTime": {
     "end_time": "2024-09-28T17:59:34.266314700Z",
     "start_time": "2024-09-28T17:59:30.922017700Z"
    }
   },
   "outputs": [
    {
     "name": "stdout",
     "output_type": "stream",
     "text": [
      "한국은 동아시아에 위치한 고도 경제 선진국가로, 세계적으로 유명한 문화와 역사를 가지고 있습니다. 수도는 서울이며, 국민의 대다수가 한국어를 사용합니다. 한국은 고대부터 현대까지 다양한 역사적 사건과 변화를 겪어왔으며, 현재는 선진화된 IT 기술과 엔터테인먼트 산업이 주목받고 있습니다. 또한, 한류 열풍으로 한국의 문화와 음식, 패션 등이 전 세계적으로 인기를 끌고 있습니다. 한반도 북쪽에는 북한이 위치하고 있으며, 남한과의 관계는 여전히 긴장 상태에 있지만 향후 평화적인 해결을 향해 노력하고 있습니다.\n",
      "CPU times: total: 125 ms\n",
      "Wall time: 3.32 s\n"
     ]
    }
   ],
   "source": [
    "%%time\n",
    "from langchain.globals import set_llm_cache\n",
    "from langchain.cache import InMemoryCache\n",
    "\n",
    "# 인메모리 캐시를 사용합니다.\n",
    "set_llm_cache(InMemoryCache())\n",
    "\n",
    "# 체인을 실행합니다.\n",
    "response = chain.invoke({\"country\": \"한국\"})\n",
    "print(response.content)"
   ]
  },
  {
   "cell_type": "code",
   "execution_count": 6,
   "metadata": {
    "ExecuteTime": {
     "end_time": "2024-09-28T17:59:34.266314700Z",
     "start_time": "2024-09-28T17:59:34.259597800Z"
    }
   },
   "outputs": [
    {
     "name": "stdout",
     "output_type": "stream",
     "text": [
      "한국은 동아시아에 위치한 고도 경제 선진국가로, 세계적으로 유명한 문화와 역사를 가지고 있습니다. 수도는 서울이며, 국민의 대다수가 한국어를 사용합니다. 한국은 고대부터 현대까지 다양한 역사적 사건과 변화를 겪어왔으며, 현재는 선진화된 IT 기술과 엔터테인먼트 산업이 주목받고 있습니다. 또한, 한류 열풍으로 한국의 문화와 음식, 패션 등이 전 세계적으로 인기를 끌고 있습니다. 한반도 북쪽에는 북한이 위치하고 있으며, 남한과의 관계는 여전히 긴장 상태에 있지만 향후 평화적인 해결을 향해 노력하고 있습니다.\n",
      "CPU times: total: 0 ns\n",
      "Wall time: 0 ns\n"
     ]
    }
   ],
   "source": [
    "%%time\n",
    "# 체인을 실행합니다.\n",
    "response = chain.invoke({\"country\": \"한국\"})\n",
    "print(response.content)"
   ]
  },
  {
   "cell_type": "markdown",
   "metadata": {},
   "source": [
    "## SQLite Cache\n"
   ]
  },
  {
   "cell_type": "code",
   "execution_count": 7,
   "metadata": {
    "ExecuteTime": {
     "end_time": "2024-09-28T18:00:31.509523500Z",
     "start_time": "2024-09-28T18:00:31.469280200Z"
    }
   },
   "outputs": [],
   "source": [
    "from langchain_community.cache import SQLiteCache\n",
    "from langchain_core.globals import set_llm_cache\n",
    "import os\n",
    "\n",
    "# 캐시 디렉토리를 생성합니다.\n",
    "if not os.path.exists(\"cache\"):\n",
    "    os.makedirs(\"cache\")\n",
    "\n",
    "# SQLiteCache를 사용합니다.\n",
    "set_llm_cache(SQLiteCache(database_path=\"cache/llm_cache.db\"))"
   ]
  },
  {
   "cell_type": "code",
   "execution_count": 8,
   "metadata": {
    "ExecuteTime": {
     "end_time": "2024-09-28T18:00:54.970364Z",
     "start_time": "2024-09-28T18:00:49.044372600Z"
    }
   },
   "outputs": [
    {
     "name": "stdout",
     "output_type": "stream",
     "text": [
      "한국은 동아시아에 위치한 고도로 발전한 현대국가로, 역사적으로는 5000년 이상의 역사를 자랑한다. 경제적으로는 세계적으로 주요한 경제강국으로 발전하였고, 기술력과 문화적 영향력도 크게 증가하였다. 한국은 또한 한류와 K-pop을 통해 세계 각지에서 큰 인기를 얻고 있으며, 한국 요리와 전통 문화도 많은 사람들에게 사랑받고 있다. 정치적으로는 북한과의 관계가 계속 이슈가 되고 있으며, 미국과의 동맹 관계도 중요하게 다뤄지고 있다. 한국은 다양한 측면에서 세계에서 주목받는 나라 중 하나이다.\n",
      "CPU times: total: 0 ns\n",
      "Wall time: 5.92 s\n"
     ]
    }
   ],
   "source": [
    "%%time \n",
    "# 체인을 실행합니다.\n",
    "response = chain.invoke({\"country\": \"한국\"})\n",
    "print(response.content)"
   ]
  },
  {
   "cell_type": "code",
   "execution_count": 9,
   "outputs": [
    {
     "name": "stdout",
     "output_type": "stream",
     "text": [
      "한국은 동아시아에 위치한 고도로 발전한 현대국가로, 역사적으로는 5000년 이상의 역사를 자랑한다. 경제적으로는 세계적으로 주요한 경제강국으로 발전하였고, 기술력과 문화적 영향력도 크게 증가하였다. 한국은 또한 한류와 K-pop을 통해 세계 각지에서 큰 인기를 얻고 있으며, 한국 요리와 전통 문화도 많은 사람들에게 사랑받고 있다. 정치적으로는 북한과의 관계가 계속 이슈가 되고 있으며, 미국과의 동맹 관계도 중요하게 다뤄지고 있다. 한국은 다양한 측면에서 세계에서 주목받는 나라 중 하나이다.\n",
      "CPU times: total: 78.1 ms\n",
      "Wall time: 167 ms\n"
     ]
    }
   ],
   "source": [
    "%%time \n",
    "# 체인을 실행합니다.\n",
    "response = chain.invoke({\"country\": \"한국\"})\n",
    "print(response.content)"
   ],
   "metadata": {
    "collapsed": false,
    "ExecuteTime": {
     "end_time": "2024-09-28T18:00:58.477620Z",
     "start_time": "2024-09-28T18:00:58.295294700Z"
    }
   }
  },
  {
   "cell_type": "code",
   "execution_count": null,
   "outputs": [],
   "source": [],
   "metadata": {
    "collapsed": false
   }
  }
 ],
 "metadata": {
  "kernelspec": {
   "display_name": "py-test",
   "language": "python",
   "name": "python3"
  },
  "language_info": {
   "codemirror_mode": {
    "name": "ipython",
    "version": 3
   },
   "file_extension": ".py",
   "mimetype": "text/x-python",
   "name": "python",
   "nbconvert_exporter": "python",
   "pygments_lexer": "ipython3",
   "version": "3.10.13"
  }
 },
 "nbformat": 4,
 "nbformat_minor": 2
}
