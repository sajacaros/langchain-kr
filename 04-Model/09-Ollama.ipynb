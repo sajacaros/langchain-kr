{
 "cells": [
  {
   "cell_type": "markdown",
   "id": "d9a68c59",
   "metadata": {},
   "source": [
    "# ChatOllama\n",
    "\n",
    "Ollama를 사용하면 Llama 2와 같은 오픈 소스 대규모 언어 모델을 로컬에서 실행할 수 있습니다. Ollama는 모델 가중치, 구성 및 데이터를 Modelfile로 정의된 단일 패키지로 번들링합니다. GPU 사용을 포함하여 설정 및 구성 세부 정보를 최적화합니다. 지원되는 모델 및 모델 변형의 전체 목록은 [Ollama model library](https://ollama.com/library)를 참조하세요.\n",
    "\n",
    "## 설치\n",
    "\n",
    "### 프로그램 설치\n",
    "Ollama를 지원되는 플랫폼(Mac / Linux / Windows)에 다운로드하고 설치하세요.\n",
    "\n",
    "- 설치주소: [https://ollama.com/](https://ollama.com/)\n",
    "\n",
    "### 모델 다운로드\n",
    "\n",
    "#### 허깅페이스\n",
    "\n",
    "허깅페이스(HuggingFace) 에서 오픈모델을 다운로드 받습니다 (.gguf 확장자)\n",
    "\n",
    "- GGUF: https://huggingface.co/teddylee777/EEVE-Korean-Instruct-10.8B-v1.0-gguf\n",
    "\n",
    "#### Ollama 제공하는 모델\n",
    "\n",
    "`ollama pull <name-of-model>` 명령을 사용하여 사용 가능한 LLM 모델을 가져오세요.\n",
    "- 예: `ollama pull gemma:7b`\n",
    "\n",
    "아래의 경로에 모델의 기본 태그 버전이 다운로드됩니다.\n",
    "\n",
    "- Mac: `~/.ollama/models`\n",
    "- Linux/WSL: `/usr/share/ollama/.ollama/models`\n",
    "\n",
    "`ollama list`로 가져온 모든 모델을 확인하세요.\n",
    "\n",
    "`ollama run <name-of-model>`로 명령줄에서 모델과 직접 채팅하세요.\n",
    "\n",
    "### Modelfile 로부터 커스텀 모델 생성하기\n",
    "\n",
    "모델을 임포트하기 위해 ModelFile을 먼저 생성해야 합니다. 자세한 정보는 [ModelFile 관련 공식 문서](https://github.com/ollama/ollama/blob/69f392c9b7ea7c5cc3d46c29774e37fdef51abd8/docs/modelfile.md)에서 확인할 수 있습니다.\n",
    "\n",
    "> 샘플 모델파일 예시\n",
    "\n",
    "```\n",
    "FROM ggml-model-Q5_K_M.gguf\n",
    "\n",
    "TEMPLATE \"\"\"{{- if .System }}\n",
    "<s>{{ .System }}</s>\n",
    "{{- end }}\n",
    "<s>Human:\n",
    "{{ .Prompt }}</s>\n",
    "<s>Assistant:\n",
    "\"\"\"\n",
    "\n",
    "SYSTEM \"\"\"A chat between a curious user and an artificial intelligence assistant. The assistant gives helpful, detailed, and polite answers to the user's questions.\"\"\"\n",
    "\n",
    "PARAMETER stop <s>\n",
    "PARAMETER stop </s>\n",
    "```\n",
    "\n",
    "### Chat 모델\n",
    "\n",
    "Llama `chat` 모델(예: `ollama pull llama2:7b-chat`)을 사용하는 경우 `ChatOllama` 인터페이스를 사용할 수 있습니다. 여기에는 시스템 메시지 및 사용자 입력을 위한 special tokens이 포함됩니다.\n",
    "\n",
    "### Ollama 모델 활용\n",
    "\n",
    "- 모든 로컬 모델은 `localhost:11434`에서 제공됩니다.\n",
    "- Command 창에서 직접 상호 작용하려면 `ollama run <name-of-model>`을 실행하세요."
   ]
  },
  {
   "cell_type": "code",
   "execution_count": 1,
   "id": "56b0c3ee",
   "metadata": {
    "ExecuteTime": {
     "end_time": "2024-10-01T06:31:39.012233100Z",
     "start_time": "2024-10-01T06:31:38.996355300Z"
    }
   },
   "outputs": [
    {
     "name": "stdout",
     "output_type": "stream",
     "text": [
      "LangChain API Key가 설정되지 않았습니다. 참고: https://wikidocs.net/250954\n"
     ]
    }
   ],
   "source": [
    "import os\n",
    "\n",
    "# LangSmith 추적을 설정합니다. https://smith.langchain.com\n",
    "# !pip install langchain-teddynote\n",
    "from langchain_teddynote import logging\n",
    "\n",
    "# 프로젝트 이름을 입력합니다.\n",
    "logging.langsmith(\"CH04-Models\")"
   ]
  },
  {
   "cell_type": "code",
   "execution_count": 2,
   "outputs": [
    {
     "data": {
      "text/plain": "True"
     },
     "execution_count": 2,
     "metadata": {},
     "output_type": "execute_result"
    }
   ],
   "source": [
    "# API KEY를 환경변수로 관리하기 위한 설정 파일\n",
    "from dotenv import load_dotenv\n",
    "\n",
    "# API KEY 정보로드\n",
    "load_dotenv()"
   ],
   "metadata": {
    "collapsed": false,
    "ExecuteTime": {
     "end_time": "2024-10-01T06:31:39.023341900Z",
     "start_time": "2024-10-01T06:31:39.004235700Z"
    }
   },
   "id": "c7a5eae5fb927af3"
  },
  {
   "cell_type": "code",
   "execution_count": 3,
   "id": "b111821243e65f99",
   "metadata": {
    "ExecuteTime": {
     "end_time": "2024-10-01T06:31:40.046592100Z",
     "start_time": "2024-10-01T06:31:39.020341600Z"
    }
   },
   "outputs": [],
   "source": [
    "from langchain_community.chat_models import ChatOllama\n",
    "from langchain_core.output_parsers import StrOutputParser\n",
    "from langchain_core.prompts import ChatPromptTemplate\n",
    "from langchain_teddynote.messages import stream_response"
   ]
  },
  {
   "cell_type": "code",
   "execution_count": 4,
   "outputs": [],
   "source": [
    "from langserve import RemoteRunnable\n",
    "\n",
    "llm = RemoteRunnable(f\"{os.getenv('LANGSERVE_ENDPOINT')}/llm\")\n",
    "# Ollama 모델을 불러옵니다.\n",
    "# llm = ChatOllama(model=\"EEVE-Korean-10.8B:latest\")"
   ],
   "metadata": {
    "collapsed": false,
    "ExecuteTime": {
     "end_time": "2024-10-01T06:31:41.426855400Z",
     "start_time": "2024-10-01T06:31:40.546515300Z"
    }
   },
   "id": "794a0bfe34ac6614"
  },
  {
   "cell_type": "code",
   "execution_count": 5,
   "outputs": [
    {
     "name": "stdout",
     "output_type": "stream",
     "text": [
      "Deep learning은 머신 러닝의 한 부분으로,神经 nets를 기반으로 하는 기계 학습을 사용하는技术입니다.\n",
      "\n",
      " deep learning은 두 가지 주요한 특징이 있습니다:\n",
      "\n",
      "1.  **데이타 수용과 가공**: Deep learning은 데이터가 자가 가공되거나 주변의 정보를 인식할 수 있게 만드는 신경망을 사용합니다.\n",
      "2.  **어드버스리**: 어드버스리는 기계 학습에 데이터를 더 많은 방향으로 가시게 해주는 기술입니다.\n",
      " deep learning은 유용한 기술로 인용된 곳이 많습니다. 대표적인 예로는 자연 언어.processing, computer vision 및 강화학이 있습니다."
     ]
    }
   ],
   "source": [
    "# 프롬프트\n",
    "prompt = ChatPromptTemplate.from_template(\"{topic} 에 대하여 간략히 설명해 줘.\")\n",
    "\n",
    "# 체인 생성\n",
    "chain = prompt | llm | StrOutputParser()\n",
    "\n",
    "# 간결성을 위해 응답은 터미널에 출력됩니다.\n",
    "answer = chain.stream({\"topic\": \"deep learning\"})\n",
    "\n",
    "# 스트리밍 출력\n",
    "stream_response(answer)"
   ],
   "metadata": {
    "collapsed": false,
    "ExecuteTime": {
     "end_time": "2024-10-01T06:31:48.268845400Z",
     "start_time": "2024-10-01T06:31:42.463089Z"
    }
   },
   "id": "8b0068d4"
  },
  {
   "cell_type": "markdown",
   "id": "9ed7102d",
   "metadata": {},
   "source": [
    "비동기 스트리밍(`astream()`) 지원을 위한 예시입니다. 위에서 생성한 단일 chain을 통해 모든 것이 가능합니다.\n"
   ]
  },
  {
   "cell_type": "code",
   "execution_count": 6,
   "id": "f1430126",
   "metadata": {
    "ExecuteTime": {
     "end_time": "2024-10-01T06:36:33.695396300Z",
     "start_time": "2024-10-01T06:36:29.025099900Z"
    }
   },
   "outputs": [
    {
     "name": "stdout",
     "output_type": "stream",
     "text": [
      "구글은 미국을 기반으로 하는 세계적인 검색 엔진 회사입니다. 설립된 것은 1998년이며, 구글은 사용자에게 가장 적합한 정보를 제공하는 것을 목표로 합니다.\n",
      "\n",
      "구글의 주요 서비스에는 다음과 같습니다.\n",
      "\n",
      "*   검색 엔진 (Google Search): 사용자가 검색할 때, 구글이.index해 lưu شده 자료를 기반으로 최적의 결과를 제공합니다.\n",
      "*   이메일 서비스 (Gmail): 사용자가 이메일을 gửi고 수신할 수 있는service입니다.\n",
      "*   cloud Storage (Google Drive): 사용자가 file와 dữ liệu를 가상적으로 저장하고 관리할 수 있는 service입니다.\n",
      "*   소스 코드 리포지토리 (GitHub): 개발자들이 source code 및 프로젝트를 공유하고 관리하는 platform입니다.\n",
      "\n",
      "구글은 또한 여러 다른 서비스를 제공합니다. 예를 들어, Google Maps는 사용자가 장소 정보를 검색하고 뷰를 볼 수 있는 service입니다. Google Photos는 사용자가 사진을 저장하고 Quản lý할 수 있는 service입니다.\n",
      "\n",
      "구글의 특징 중 하나는, 구글은 사용자에게 가장 적합한 결과를 제공하는 것을 목표로 합니다. 구글은 사용자의 검색 behavior 및 preference를 분석하여, 사용자에게 가장 적합한 결과를 제공합니다."
     ]
    }
   ],
   "source": [
    "async for chunks in chain.astream(\n",
    "    {\"topic\": \"구글\"}\n",
    "):  # 비동기적으로 체인을 실행하여 청크 단위로 결과를 반환합니다.\n",
    "    print(chunks, end=\"\", flush=True)  # 각 청크를 출력합니다."
   ]
  },
  {
   "cell_type": "markdown",
   "id": "499831dc",
   "metadata": {},
   "source": [
    "## 출력형식: JSON\n",
    "\n",
    "Ollama의 최신 버전을 사용하고 [`format`](https://github.com/jmorganca/ollama/blob/main/docs/api.md#json-mode) 플래그를 제공하세요.\n",
    "\n",
    "`format` 플래그는 모델이 JSON 형식으로 응답을 생성하도록 강제합니다."
   ]
  },
  {
   "cell_type": "code",
   "execution_count": 7,
   "id": "a444428e",
   "metadata": {
    "ExecuteTime": {
     "end_time": "2024-10-01T06:36:33.697577900Z",
     "start_time": "2024-10-01T06:36:33.695396300Z"
    }
   },
   "outputs": [],
   "source": [
    "from langchain_community.chat_models import ChatOllama\n",
    "\n",
    "llm = ChatOllama(\n",
    "    model=\"gemma:7b\",  # 사용할 언어 모델을 지정합니다.\n",
    "    format=\"json\",  # 입출력 형식을 JSON으로 설정합니다.\n",
    "    temperature=0,\n",
    ")"
   ]
  },
  {
   "cell_type": "markdown",
   "id": "168f4abe",
   "metadata": {},
   "source": [
    "JSON 형식의 답변을 받기 위해서는 `\"resonse in JSON format.\"` 이 프롬프트에 포함되어야 합니다."
   ]
  },
  {
   "cell_type": "code",
   "execution_count": 8,
   "id": "3d6355c6",
   "metadata": {
    "ExecuteTime": {
     "end_time": "2024-10-01T06:36:36.197664700Z",
     "start_time": "2024-10-01T06:36:33.698844600Z"
    }
   },
   "outputs": [
    {
     "ename": "OllamaEndpointNotFoundError",
     "evalue": "Ollama call failed with status code 404. Maybe your model is not found and you should pull the model with `ollama pull gemma:7b`.",
     "output_type": "error",
     "traceback": [
      "\u001B[1;31m---------------------------------------------------------------------------\u001B[0m",
      "\u001B[1;31mOllamaEndpointNotFoundError\u001B[0m               Traceback (most recent call last)",
      "Cell \u001B[1;32mIn[8], line 5\u001B[0m\n\u001B[0;32m      2\u001B[0m prompt \u001B[38;5;241m=\u001B[39m \u001B[38;5;124m\"\u001B[39m\u001B[38;5;124m유럽 여행지 10곳을 알려주세요. key: `places`. resonse in JSON format.\u001B[39m\u001B[38;5;124m\"\u001B[39m\n\u001B[0;32m      4\u001B[0m \u001B[38;5;66;03m# 체인 호출\u001B[39;00m\n\u001B[1;32m----> 5\u001B[0m response \u001B[38;5;241m=\u001B[39m \u001B[43mllm\u001B[49m\u001B[38;5;241;43m.\u001B[39;49m\u001B[43minvoke\u001B[49m\u001B[43m(\u001B[49m\u001B[43mprompt\u001B[49m\u001B[43m)\u001B[49m\n\u001B[0;32m      6\u001B[0m \u001B[38;5;28mprint\u001B[39m(response\u001B[38;5;241m.\u001B[39mcontent)  \u001B[38;5;66;03m# 생성된 응답을 출력합니다.\u001B[39;00m\n",
      "File \u001B[1;32m~\\miniconda3\\Lib\\site-packages\\langchain_core\\language_models\\chat_models.py:277\u001B[0m, in \u001B[0;36mBaseChatModel.invoke\u001B[1;34m(self, input, config, stop, **kwargs)\u001B[0m\n\u001B[0;32m    266\u001B[0m \u001B[38;5;28;01mdef\u001B[39;00m \u001B[38;5;21minvoke\u001B[39m(\n\u001B[0;32m    267\u001B[0m     \u001B[38;5;28mself\u001B[39m,\n\u001B[0;32m    268\u001B[0m     \u001B[38;5;28minput\u001B[39m: LanguageModelInput,\n\u001B[1;32m   (...)\u001B[0m\n\u001B[0;32m    272\u001B[0m     \u001B[38;5;241m*\u001B[39m\u001B[38;5;241m*\u001B[39mkwargs: Any,\n\u001B[0;32m    273\u001B[0m ) \u001B[38;5;241m-\u001B[39m\u001B[38;5;241m>\u001B[39m BaseMessage:\n\u001B[0;32m    274\u001B[0m     config \u001B[38;5;241m=\u001B[39m ensure_config(config)\n\u001B[0;32m    275\u001B[0m     \u001B[38;5;28;01mreturn\u001B[39;00m cast(\n\u001B[0;32m    276\u001B[0m         ChatGeneration,\n\u001B[1;32m--> 277\u001B[0m         \u001B[38;5;28;43mself\u001B[39;49m\u001B[38;5;241;43m.\u001B[39;49m\u001B[43mgenerate_prompt\u001B[49m\u001B[43m(\u001B[49m\n\u001B[0;32m    278\u001B[0m \u001B[43m            \u001B[49m\u001B[43m[\u001B[49m\u001B[38;5;28;43mself\u001B[39;49m\u001B[38;5;241;43m.\u001B[39;49m\u001B[43m_convert_input\u001B[49m\u001B[43m(\u001B[49m\u001B[38;5;28;43minput\u001B[39;49m\u001B[43m)\u001B[49m\u001B[43m]\u001B[49m\u001B[43m,\u001B[49m\n\u001B[0;32m    279\u001B[0m \u001B[43m            \u001B[49m\u001B[43mstop\u001B[49m\u001B[38;5;241;43m=\u001B[39;49m\u001B[43mstop\u001B[49m\u001B[43m,\u001B[49m\n\u001B[0;32m    280\u001B[0m \u001B[43m            \u001B[49m\u001B[43mcallbacks\u001B[49m\u001B[38;5;241;43m=\u001B[39;49m\u001B[43mconfig\u001B[49m\u001B[38;5;241;43m.\u001B[39;49m\u001B[43mget\u001B[49m\u001B[43m(\u001B[49m\u001B[38;5;124;43m\"\u001B[39;49m\u001B[38;5;124;43mcallbacks\u001B[39;49m\u001B[38;5;124;43m\"\u001B[39;49m\u001B[43m)\u001B[49m\u001B[43m,\u001B[49m\n\u001B[0;32m    281\u001B[0m \u001B[43m            \u001B[49m\u001B[43mtags\u001B[49m\u001B[38;5;241;43m=\u001B[39;49m\u001B[43mconfig\u001B[49m\u001B[38;5;241;43m.\u001B[39;49m\u001B[43mget\u001B[49m\u001B[43m(\u001B[49m\u001B[38;5;124;43m\"\u001B[39;49m\u001B[38;5;124;43mtags\u001B[39;49m\u001B[38;5;124;43m\"\u001B[39;49m\u001B[43m)\u001B[49m\u001B[43m,\u001B[49m\n\u001B[0;32m    282\u001B[0m \u001B[43m            \u001B[49m\u001B[43mmetadata\u001B[49m\u001B[38;5;241;43m=\u001B[39;49m\u001B[43mconfig\u001B[49m\u001B[38;5;241;43m.\u001B[39;49m\u001B[43mget\u001B[49m\u001B[43m(\u001B[49m\u001B[38;5;124;43m\"\u001B[39;49m\u001B[38;5;124;43mmetadata\u001B[39;49m\u001B[38;5;124;43m\"\u001B[39;49m\u001B[43m)\u001B[49m\u001B[43m,\u001B[49m\n\u001B[0;32m    283\u001B[0m \u001B[43m            \u001B[49m\u001B[43mrun_name\u001B[49m\u001B[38;5;241;43m=\u001B[39;49m\u001B[43mconfig\u001B[49m\u001B[38;5;241;43m.\u001B[39;49m\u001B[43mget\u001B[49m\u001B[43m(\u001B[49m\u001B[38;5;124;43m\"\u001B[39;49m\u001B[38;5;124;43mrun_name\u001B[39;49m\u001B[38;5;124;43m\"\u001B[39;49m\u001B[43m)\u001B[49m\u001B[43m,\u001B[49m\n\u001B[0;32m    284\u001B[0m \u001B[43m            \u001B[49m\u001B[43mrun_id\u001B[49m\u001B[38;5;241;43m=\u001B[39;49m\u001B[43mconfig\u001B[49m\u001B[38;5;241;43m.\u001B[39;49m\u001B[43mpop\u001B[49m\u001B[43m(\u001B[49m\u001B[38;5;124;43m\"\u001B[39;49m\u001B[38;5;124;43mrun_id\u001B[39;49m\u001B[38;5;124;43m\"\u001B[39;49m\u001B[43m,\u001B[49m\u001B[43m \u001B[49m\u001B[38;5;28;43;01mNone\u001B[39;49;00m\u001B[43m)\u001B[49m\u001B[43m,\u001B[49m\n\u001B[0;32m    285\u001B[0m \u001B[43m            \u001B[49m\u001B[38;5;241;43m*\u001B[39;49m\u001B[38;5;241;43m*\u001B[39;49m\u001B[43mkwargs\u001B[49m\u001B[43m,\u001B[49m\n\u001B[0;32m    286\u001B[0m \u001B[43m        \u001B[49m\u001B[43m)\u001B[49m\u001B[38;5;241m.\u001B[39mgenerations[\u001B[38;5;241m0\u001B[39m][\u001B[38;5;241m0\u001B[39m],\n\u001B[0;32m    287\u001B[0m     )\u001B[38;5;241m.\u001B[39mmessage\n",
      "File \u001B[1;32m~\\miniconda3\\Lib\\site-packages\\langchain_core\\language_models\\chat_models.py:777\u001B[0m, in \u001B[0;36mBaseChatModel.generate_prompt\u001B[1;34m(self, prompts, stop, callbacks, **kwargs)\u001B[0m\n\u001B[0;32m    769\u001B[0m \u001B[38;5;28;01mdef\u001B[39;00m \u001B[38;5;21mgenerate_prompt\u001B[39m(\n\u001B[0;32m    770\u001B[0m     \u001B[38;5;28mself\u001B[39m,\n\u001B[0;32m    771\u001B[0m     prompts: List[PromptValue],\n\u001B[1;32m   (...)\u001B[0m\n\u001B[0;32m    774\u001B[0m     \u001B[38;5;241m*\u001B[39m\u001B[38;5;241m*\u001B[39mkwargs: Any,\n\u001B[0;32m    775\u001B[0m ) \u001B[38;5;241m-\u001B[39m\u001B[38;5;241m>\u001B[39m LLMResult:\n\u001B[0;32m    776\u001B[0m     prompt_messages \u001B[38;5;241m=\u001B[39m [p\u001B[38;5;241m.\u001B[39mto_messages() \u001B[38;5;28;01mfor\u001B[39;00m p \u001B[38;5;129;01min\u001B[39;00m prompts]\n\u001B[1;32m--> 777\u001B[0m     \u001B[38;5;28;01mreturn\u001B[39;00m \u001B[38;5;28;43mself\u001B[39;49m\u001B[38;5;241;43m.\u001B[39;49m\u001B[43mgenerate\u001B[49m\u001B[43m(\u001B[49m\u001B[43mprompt_messages\u001B[49m\u001B[43m,\u001B[49m\u001B[43m \u001B[49m\u001B[43mstop\u001B[49m\u001B[38;5;241;43m=\u001B[39;49m\u001B[43mstop\u001B[49m\u001B[43m,\u001B[49m\u001B[43m \u001B[49m\u001B[43mcallbacks\u001B[49m\u001B[38;5;241;43m=\u001B[39;49m\u001B[43mcallbacks\u001B[49m\u001B[43m,\u001B[49m\u001B[43m \u001B[49m\u001B[38;5;241;43m*\u001B[39;49m\u001B[38;5;241;43m*\u001B[39;49m\u001B[43mkwargs\u001B[49m\u001B[43m)\u001B[49m\n",
      "File \u001B[1;32m~\\miniconda3\\Lib\\site-packages\\langchain_core\\language_models\\chat_models.py:634\u001B[0m, in \u001B[0;36mBaseChatModel.generate\u001B[1;34m(self, messages, stop, callbacks, tags, metadata, run_name, run_id, **kwargs)\u001B[0m\n\u001B[0;32m    632\u001B[0m         \u001B[38;5;28;01mif\u001B[39;00m run_managers:\n\u001B[0;32m    633\u001B[0m             run_managers[i]\u001B[38;5;241m.\u001B[39mon_llm_error(e, response\u001B[38;5;241m=\u001B[39mLLMResult(generations\u001B[38;5;241m=\u001B[39m[]))\n\u001B[1;32m--> 634\u001B[0m         \u001B[38;5;28;01mraise\u001B[39;00m e\n\u001B[0;32m    635\u001B[0m flattened_outputs \u001B[38;5;241m=\u001B[39m [\n\u001B[0;32m    636\u001B[0m     LLMResult(generations\u001B[38;5;241m=\u001B[39m[res\u001B[38;5;241m.\u001B[39mgenerations], llm_output\u001B[38;5;241m=\u001B[39mres\u001B[38;5;241m.\u001B[39mllm_output)  \u001B[38;5;66;03m# type: ignore[list-item]\u001B[39;00m\n\u001B[0;32m    637\u001B[0m     \u001B[38;5;28;01mfor\u001B[39;00m res \u001B[38;5;129;01min\u001B[39;00m results\n\u001B[0;32m    638\u001B[0m ]\n\u001B[0;32m    639\u001B[0m llm_output \u001B[38;5;241m=\u001B[39m \u001B[38;5;28mself\u001B[39m\u001B[38;5;241m.\u001B[39m_combine_llm_outputs([res\u001B[38;5;241m.\u001B[39mllm_output \u001B[38;5;28;01mfor\u001B[39;00m res \u001B[38;5;129;01min\u001B[39;00m results])\n",
      "File \u001B[1;32m~\\miniconda3\\Lib\\site-packages\\langchain_core\\language_models\\chat_models.py:624\u001B[0m, in \u001B[0;36mBaseChatModel.generate\u001B[1;34m(self, messages, stop, callbacks, tags, metadata, run_name, run_id, **kwargs)\u001B[0m\n\u001B[0;32m    621\u001B[0m \u001B[38;5;28;01mfor\u001B[39;00m i, m \u001B[38;5;129;01min\u001B[39;00m \u001B[38;5;28menumerate\u001B[39m(messages):\n\u001B[0;32m    622\u001B[0m     \u001B[38;5;28;01mtry\u001B[39;00m:\n\u001B[0;32m    623\u001B[0m         results\u001B[38;5;241m.\u001B[39mappend(\n\u001B[1;32m--> 624\u001B[0m             \u001B[38;5;28;43mself\u001B[39;49m\u001B[38;5;241;43m.\u001B[39;49m\u001B[43m_generate_with_cache\u001B[49m\u001B[43m(\u001B[49m\n\u001B[0;32m    625\u001B[0m \u001B[43m                \u001B[49m\u001B[43mm\u001B[49m\u001B[43m,\u001B[49m\n\u001B[0;32m    626\u001B[0m \u001B[43m                \u001B[49m\u001B[43mstop\u001B[49m\u001B[38;5;241;43m=\u001B[39;49m\u001B[43mstop\u001B[49m\u001B[43m,\u001B[49m\n\u001B[0;32m    627\u001B[0m \u001B[43m                \u001B[49m\u001B[43mrun_manager\u001B[49m\u001B[38;5;241;43m=\u001B[39;49m\u001B[43mrun_managers\u001B[49m\u001B[43m[\u001B[49m\u001B[43mi\u001B[49m\u001B[43m]\u001B[49m\u001B[43m \u001B[49m\u001B[38;5;28;43;01mif\u001B[39;49;00m\u001B[43m \u001B[49m\u001B[43mrun_managers\u001B[49m\u001B[43m \u001B[49m\u001B[38;5;28;43;01melse\u001B[39;49;00m\u001B[43m \u001B[49m\u001B[38;5;28;43;01mNone\u001B[39;49;00m\u001B[43m,\u001B[49m\n\u001B[0;32m    628\u001B[0m \u001B[43m                \u001B[49m\u001B[38;5;241;43m*\u001B[39;49m\u001B[38;5;241;43m*\u001B[39;49m\u001B[43mkwargs\u001B[49m\u001B[43m,\u001B[49m\n\u001B[0;32m    629\u001B[0m \u001B[43m            \u001B[49m\u001B[43m)\u001B[49m\n\u001B[0;32m    630\u001B[0m         )\n\u001B[0;32m    631\u001B[0m     \u001B[38;5;28;01mexcept\u001B[39;00m \u001B[38;5;167;01mBaseException\u001B[39;00m \u001B[38;5;28;01mas\u001B[39;00m e:\n\u001B[0;32m    632\u001B[0m         \u001B[38;5;28;01mif\u001B[39;00m run_managers:\n",
      "File \u001B[1;32m~\\miniconda3\\Lib\\site-packages\\langchain_core\\language_models\\chat_models.py:846\u001B[0m, in \u001B[0;36mBaseChatModel._generate_with_cache\u001B[1;34m(self, messages, stop, run_manager, **kwargs)\u001B[0m\n\u001B[0;32m    844\u001B[0m \u001B[38;5;28;01melse\u001B[39;00m:\n\u001B[0;32m    845\u001B[0m     \u001B[38;5;28;01mif\u001B[39;00m inspect\u001B[38;5;241m.\u001B[39msignature(\u001B[38;5;28mself\u001B[39m\u001B[38;5;241m.\u001B[39m_generate)\u001B[38;5;241m.\u001B[39mparameters\u001B[38;5;241m.\u001B[39mget(\u001B[38;5;124m\"\u001B[39m\u001B[38;5;124mrun_manager\u001B[39m\u001B[38;5;124m\"\u001B[39m):\n\u001B[1;32m--> 846\u001B[0m         result \u001B[38;5;241m=\u001B[39m \u001B[38;5;28;43mself\u001B[39;49m\u001B[38;5;241;43m.\u001B[39;49m\u001B[43m_generate\u001B[49m\u001B[43m(\u001B[49m\n\u001B[0;32m    847\u001B[0m \u001B[43m            \u001B[49m\u001B[43mmessages\u001B[49m\u001B[43m,\u001B[49m\u001B[43m \u001B[49m\u001B[43mstop\u001B[49m\u001B[38;5;241;43m=\u001B[39;49m\u001B[43mstop\u001B[49m\u001B[43m,\u001B[49m\u001B[43m \u001B[49m\u001B[43mrun_manager\u001B[49m\u001B[38;5;241;43m=\u001B[39;49m\u001B[43mrun_manager\u001B[49m\u001B[43m,\u001B[49m\u001B[43m \u001B[49m\u001B[38;5;241;43m*\u001B[39;49m\u001B[38;5;241;43m*\u001B[39;49m\u001B[43mkwargs\u001B[49m\n\u001B[0;32m    848\u001B[0m \u001B[43m        \u001B[49m\u001B[43m)\u001B[49m\n\u001B[0;32m    849\u001B[0m     \u001B[38;5;28;01melse\u001B[39;00m:\n\u001B[0;32m    850\u001B[0m         result \u001B[38;5;241m=\u001B[39m \u001B[38;5;28mself\u001B[39m\u001B[38;5;241m.\u001B[39m_generate(messages, stop\u001B[38;5;241m=\u001B[39mstop, \u001B[38;5;241m*\u001B[39m\u001B[38;5;241m*\u001B[39mkwargs)\n",
      "File \u001B[1;32m~\\miniconda3\\Lib\\site-packages\\langchain_community\\chat_models\\ollama.py:286\u001B[0m, in \u001B[0;36mChatOllama._generate\u001B[1;34m(self, messages, stop, run_manager, **kwargs)\u001B[0m\n\u001B[0;32m    262\u001B[0m \u001B[38;5;28;01mdef\u001B[39;00m \u001B[38;5;21m_generate\u001B[39m(\n\u001B[0;32m    263\u001B[0m     \u001B[38;5;28mself\u001B[39m,\n\u001B[0;32m    264\u001B[0m     messages: List[BaseMessage],\n\u001B[1;32m   (...)\u001B[0m\n\u001B[0;32m    267\u001B[0m     \u001B[38;5;241m*\u001B[39m\u001B[38;5;241m*\u001B[39mkwargs: Any,\n\u001B[0;32m    268\u001B[0m ) \u001B[38;5;241m-\u001B[39m\u001B[38;5;241m>\u001B[39m ChatResult:\n\u001B[0;32m    269\u001B[0m \u001B[38;5;250m    \u001B[39m\u001B[38;5;124;03m\"\"\"Call out to Ollama's generate endpoint.\u001B[39;00m\n\u001B[0;32m    270\u001B[0m \n\u001B[0;32m    271\u001B[0m \u001B[38;5;124;03m    Args:\u001B[39;00m\n\u001B[1;32m   (...)\u001B[0m\n\u001B[0;32m    283\u001B[0m \u001B[38;5;124;03m            ])\u001B[39;00m\n\u001B[0;32m    284\u001B[0m \u001B[38;5;124;03m    \"\"\"\u001B[39;00m\n\u001B[1;32m--> 286\u001B[0m     final_chunk \u001B[38;5;241m=\u001B[39m \u001B[38;5;28;43mself\u001B[39;49m\u001B[38;5;241;43m.\u001B[39;49m\u001B[43m_chat_stream_with_aggregation\u001B[49m\u001B[43m(\u001B[49m\n\u001B[0;32m    287\u001B[0m \u001B[43m        \u001B[49m\u001B[43mmessages\u001B[49m\u001B[43m,\u001B[49m\n\u001B[0;32m    288\u001B[0m \u001B[43m        \u001B[49m\u001B[43mstop\u001B[49m\u001B[38;5;241;43m=\u001B[39;49m\u001B[43mstop\u001B[49m\u001B[43m,\u001B[49m\n\u001B[0;32m    289\u001B[0m \u001B[43m        \u001B[49m\u001B[43mrun_manager\u001B[49m\u001B[38;5;241;43m=\u001B[39;49m\u001B[43mrun_manager\u001B[49m\u001B[43m,\u001B[49m\n\u001B[0;32m    290\u001B[0m \u001B[43m        \u001B[49m\u001B[43mverbose\u001B[49m\u001B[38;5;241;43m=\u001B[39;49m\u001B[38;5;28;43mself\u001B[39;49m\u001B[38;5;241;43m.\u001B[39;49m\u001B[43mverbose\u001B[49m\u001B[43m,\u001B[49m\n\u001B[0;32m    291\u001B[0m \u001B[43m        \u001B[49m\u001B[38;5;241;43m*\u001B[39;49m\u001B[38;5;241;43m*\u001B[39;49m\u001B[43mkwargs\u001B[49m\u001B[43m,\u001B[49m\n\u001B[0;32m    292\u001B[0m \u001B[43m    \u001B[49m\u001B[43m)\u001B[49m\n\u001B[0;32m    293\u001B[0m     chat_generation \u001B[38;5;241m=\u001B[39m ChatGeneration(\n\u001B[0;32m    294\u001B[0m         message\u001B[38;5;241m=\u001B[39mAIMessage(content\u001B[38;5;241m=\u001B[39mfinal_chunk\u001B[38;5;241m.\u001B[39mtext),\n\u001B[0;32m    295\u001B[0m         generation_info\u001B[38;5;241m=\u001B[39mfinal_chunk\u001B[38;5;241m.\u001B[39mgeneration_info,\n\u001B[0;32m    296\u001B[0m     )\n\u001B[0;32m    297\u001B[0m     \u001B[38;5;28;01mreturn\u001B[39;00m ChatResult(generations\u001B[38;5;241m=\u001B[39m[chat_generation])\n",
      "File \u001B[1;32m~\\miniconda3\\Lib\\site-packages\\langchain_community\\chat_models\\ollama.py:217\u001B[0m, in \u001B[0;36mChatOllama._chat_stream_with_aggregation\u001B[1;34m(self, messages, stop, run_manager, verbose, **kwargs)\u001B[0m\n\u001B[0;32m    208\u001B[0m \u001B[38;5;28;01mdef\u001B[39;00m \u001B[38;5;21m_chat_stream_with_aggregation\u001B[39m(\n\u001B[0;32m    209\u001B[0m     \u001B[38;5;28mself\u001B[39m,\n\u001B[0;32m    210\u001B[0m     messages: List[BaseMessage],\n\u001B[1;32m   (...)\u001B[0m\n\u001B[0;32m    214\u001B[0m     \u001B[38;5;241m*\u001B[39m\u001B[38;5;241m*\u001B[39mkwargs: Any,\n\u001B[0;32m    215\u001B[0m ) \u001B[38;5;241m-\u001B[39m\u001B[38;5;241m>\u001B[39m ChatGenerationChunk:\n\u001B[0;32m    216\u001B[0m     final_chunk: Optional[ChatGenerationChunk] \u001B[38;5;241m=\u001B[39m \u001B[38;5;28;01mNone\u001B[39;00m\n\u001B[1;32m--> 217\u001B[0m \u001B[43m    \u001B[49m\u001B[38;5;28;43;01mfor\u001B[39;49;00m\u001B[43m \u001B[49m\u001B[43mstream_resp\u001B[49m\u001B[43m \u001B[49m\u001B[38;5;129;43;01min\u001B[39;49;00m\u001B[43m \u001B[49m\u001B[38;5;28;43mself\u001B[39;49m\u001B[38;5;241;43m.\u001B[39;49m\u001B[43m_create_chat_stream\u001B[49m\u001B[43m(\u001B[49m\u001B[43mmessages\u001B[49m\u001B[43m,\u001B[49m\u001B[43m \u001B[49m\u001B[43mstop\u001B[49m\u001B[43m,\u001B[49m\u001B[43m \u001B[49m\u001B[38;5;241;43m*\u001B[39;49m\u001B[38;5;241;43m*\u001B[39;49m\u001B[43mkwargs\u001B[49m\u001B[43m)\u001B[49m\u001B[43m:\u001B[49m\n\u001B[0;32m    218\u001B[0m \u001B[43m        \u001B[49m\u001B[38;5;28;43;01mif\u001B[39;49;00m\u001B[43m \u001B[49m\u001B[43mstream_resp\u001B[49m\u001B[43m:\u001B[49m\n\u001B[0;32m    219\u001B[0m \u001B[43m            \u001B[49m\u001B[43mchunk\u001B[49m\u001B[43m \u001B[49m\u001B[38;5;241;43m=\u001B[39;49m\u001B[43m \u001B[49m\u001B[43m_chat_stream_response_to_chat_generation_chunk\u001B[49m\u001B[43m(\u001B[49m\u001B[43mstream_resp\u001B[49m\u001B[43m)\u001B[49m\n",
      "File \u001B[1;32m~\\miniconda3\\Lib\\site-packages\\langchain_community\\chat_models\\ollama.py:189\u001B[0m, in \u001B[0;36mChatOllama._create_chat_stream\u001B[1;34m(self, messages, stop, **kwargs)\u001B[0m\n\u001B[0;32m    179\u001B[0m \u001B[38;5;28;01mdef\u001B[39;00m \u001B[38;5;21m_create_chat_stream\u001B[39m(\n\u001B[0;32m    180\u001B[0m     \u001B[38;5;28mself\u001B[39m,\n\u001B[0;32m    181\u001B[0m     messages: List[BaseMessage],\n\u001B[0;32m    182\u001B[0m     stop: Optional[List[\u001B[38;5;28mstr\u001B[39m]] \u001B[38;5;241m=\u001B[39m \u001B[38;5;28;01mNone\u001B[39;00m,\n\u001B[0;32m    183\u001B[0m     \u001B[38;5;241m*\u001B[39m\u001B[38;5;241m*\u001B[39mkwargs: Any,\n\u001B[0;32m    184\u001B[0m ) \u001B[38;5;241m-\u001B[39m\u001B[38;5;241m>\u001B[39m Iterator[\u001B[38;5;28mstr\u001B[39m]:\n\u001B[0;32m    185\u001B[0m     payload \u001B[38;5;241m=\u001B[39m {\n\u001B[0;32m    186\u001B[0m         \u001B[38;5;124m\"\u001B[39m\u001B[38;5;124mmodel\u001B[39m\u001B[38;5;124m\"\u001B[39m: \u001B[38;5;28mself\u001B[39m\u001B[38;5;241m.\u001B[39mmodel,\n\u001B[0;32m    187\u001B[0m         \u001B[38;5;124m\"\u001B[39m\u001B[38;5;124mmessages\u001B[39m\u001B[38;5;124m\"\u001B[39m: \u001B[38;5;28mself\u001B[39m\u001B[38;5;241m.\u001B[39m_convert_messages_to_ollama_messages(messages),\n\u001B[0;32m    188\u001B[0m     }\n\u001B[1;32m--> 189\u001B[0m     \u001B[38;5;28;01myield from\u001B[39;00m \u001B[38;5;28;43mself\u001B[39;49m\u001B[38;5;241;43m.\u001B[39;49m\u001B[43m_create_stream\u001B[49m\u001B[43m(\u001B[49m\n\u001B[0;32m    190\u001B[0m \u001B[43m        \u001B[49m\u001B[43mpayload\u001B[49m\u001B[38;5;241;43m=\u001B[39;49m\u001B[43mpayload\u001B[49m\u001B[43m,\u001B[49m\u001B[43m \u001B[49m\u001B[43mstop\u001B[49m\u001B[38;5;241;43m=\u001B[39;49m\u001B[43mstop\u001B[49m\u001B[43m,\u001B[49m\u001B[43m \u001B[49m\u001B[43mapi_url\u001B[49m\u001B[38;5;241;43m=\u001B[39;49m\u001B[38;5;124;43mf\u001B[39;49m\u001B[38;5;124;43m\"\u001B[39;49m\u001B[38;5;132;43;01m{\u001B[39;49;00m\u001B[38;5;28;43mself\u001B[39;49m\u001B[38;5;241;43m.\u001B[39;49m\u001B[43mbase_url\u001B[49m\u001B[38;5;132;43;01m}\u001B[39;49;00m\u001B[38;5;124;43m/api/chat\u001B[39;49m\u001B[38;5;124;43m\"\u001B[39;49m\u001B[43m,\u001B[49m\u001B[43m \u001B[49m\u001B[38;5;241;43m*\u001B[39;49m\u001B[38;5;241;43m*\u001B[39;49m\u001B[43mkwargs\u001B[49m\n\u001B[0;32m    191\u001B[0m \u001B[43m    \u001B[49m\u001B[43m)\u001B[49m\n",
      "File \u001B[1;32m~\\miniconda3\\Lib\\site-packages\\langchain_community\\llms\\ollama.py:264\u001B[0m, in \u001B[0;36m_OllamaCommon._create_stream\u001B[1;34m(self, api_url, payload, stop, **kwargs)\u001B[0m\n\u001B[0;32m    262\u001B[0m \u001B[38;5;28;01mif\u001B[39;00m response\u001B[38;5;241m.\u001B[39mstatus_code \u001B[38;5;241m!=\u001B[39m \u001B[38;5;241m200\u001B[39m:\n\u001B[0;32m    263\u001B[0m     \u001B[38;5;28;01mif\u001B[39;00m response\u001B[38;5;241m.\u001B[39mstatus_code \u001B[38;5;241m==\u001B[39m \u001B[38;5;241m404\u001B[39m:\n\u001B[1;32m--> 264\u001B[0m         \u001B[38;5;28;01mraise\u001B[39;00m OllamaEndpointNotFoundError(\n\u001B[0;32m    265\u001B[0m             \u001B[38;5;124m\"\u001B[39m\u001B[38;5;124mOllama call failed with status code 404. \u001B[39m\u001B[38;5;124m\"\u001B[39m\n\u001B[0;32m    266\u001B[0m             \u001B[38;5;124m\"\u001B[39m\u001B[38;5;124mMaybe your model is not found \u001B[39m\u001B[38;5;124m\"\u001B[39m\n\u001B[0;32m    267\u001B[0m             \u001B[38;5;124mf\u001B[39m\u001B[38;5;124m\"\u001B[39m\u001B[38;5;124mand you should pull the model with `ollama pull \u001B[39m\u001B[38;5;132;01m{\u001B[39;00m\u001B[38;5;28mself\u001B[39m\u001B[38;5;241m.\u001B[39mmodel\u001B[38;5;132;01m}\u001B[39;00m\u001B[38;5;124m`.\u001B[39m\u001B[38;5;124m\"\u001B[39m\n\u001B[0;32m    268\u001B[0m         )\n\u001B[0;32m    269\u001B[0m     \u001B[38;5;28;01melse\u001B[39;00m:\n\u001B[0;32m    270\u001B[0m         optional_detail \u001B[38;5;241m=\u001B[39m response\u001B[38;5;241m.\u001B[39mtext\n",
      "\u001B[1;31mOllamaEndpointNotFoundError\u001B[0m: Ollama call failed with status code 404. Maybe your model is not found and you should pull the model with `ollama pull gemma:7b`."
     ]
    }
   ],
   "source": [
    "# JSON 형식의 답변을 요구하는 프롬프트 작성\n",
    "prompt = \"유럽 여행지 10곳을 알려주세요. key: `places`. resonse in JSON format.\"\n",
    "\n",
    "# 체인 호출\n",
    "response = llm.invoke(prompt)\n",
    "print(response.content)  # 생성된 응답을 출력합니다."
   ]
  },
  {
   "cell_type": "markdown",
   "id": "53d74e49",
   "metadata": {},
   "source": [
    "## 멀티모달(Multimodal) 지원\n",
    "\n",
    "Ollama는 [bakllava](https://ollama.ai/library/bakllava)와 [llava](https://ollama.ai/library/llava)와 같은 멀티모달 LLM을 지원합니다.\n",
    "\n",
    "`tags`를 사용하여 [Llava](https://ollama.ai/library/llava/tags)와 같은 모델의 전체 버전 세트를 탐색할 수 있습니다.\n",
    "\n",
    "`ollama pull llava:7b` 혹은 `ollama pull bakllava` 명령어를 통해 멀티모달 LLM을 다운로드하세요.\n",
    "\n",
    "**참고**\n",
    "- 멀티모달을 지원하는 최신 버전을 사용하려면 Ollama를 업데이트해야 합니다."
   ]
  },
  {
   "cell_type": "markdown",
   "id": "b17729af",
   "metadata": {},
   "source": [
    "PIL 이미지를 Base64 인코딩된 문자열로 변환하고 이를 HTML에 포함하여 이미지를 표시하는 함수를 제공합니다.\n",
    "\n",
    "- `convert_to_base64` 함수:\n",
    "\n",
    "  - PIL 이미지를 입력으로 받습니다.\n",
    "  - 이미지를 JPEG 형식으로 BytesIO 버퍼에 저장합니다.\n",
    "  - 버퍼의 값을 Base64로 인코딩하고 문자열로 반환합니다.\n",
    "\n",
    "- `plt_img_base64` 함수:\n",
    "\n",
    "  - Base64 인코딩된 문자열을 입력으로 받습니다.\n",
    "  - Base64 문자열을 소스로 사용하는 HTML `<img>` 태그를 생성합니다.\n",
    "  - HTML을 렌더링하여 이미지를 표시합니다.\n",
    "\n",
    "- 사용 예시:\n",
    "  - 지정된 파일 경로에서 PIL 이미지를 열어 `pil_image`에 저장합니다.\n",
    "  - `convert_to_base64` 함수를 사용하여 `pil_image`를 Base64 인코딩된 문자열로 변환합니다.\n",
    "  - `plt_img_base64` 함수를 사용하여 Base64 인코딩된 문자열을 이미지로 표시합니다.\n"
   ]
  },
  {
   "cell_type": "code",
   "execution_count": 9,
   "id": "38f09a41",
   "metadata": {
    "ExecuteTime": {
     "end_time": "2024-10-01T06:36:36.473205400Z",
     "start_time": "2024-10-01T06:36:36.391823600Z"
    }
   },
   "outputs": [
    {
     "data": {
      "text/plain": "<IPython.core.display.HTML object>",
      "text/html": "<img src=\"data:image/jpeg;base64,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\" />"
     },
     "metadata": {},
     "output_type": "display_data"
    }
   ],
   "source": [
    "import base64\n",
    "from io import BytesIO\n",
    "\n",
    "from IPython.display import HTML, display\n",
    "from PIL import Image\n",
    "from langchain_core.messages import HumanMessage\n",
    "\n",
    "\n",
    "def convert_to_base64(pil_image):\n",
    "    \"\"\"\n",
    "    PIL 이미지를 Base64로 인코딩된 문자열로 변환합니다.\n",
    "\n",
    "    :param pil_image: PIL 이미지\n",
    "    :return: 크기 조정된 Base64 문자열\n",
    "    \"\"\"\n",
    "\n",
    "    buffered = BytesIO()\n",
    "    pil_image.save(buffered, format=\"JPEG\")  # 필요한 경우 형식을 변경할 수 있습니다.\n",
    "    img_str = base64.b64encode(buffered.getvalue()).decode(\"utf-8\")\n",
    "    return img_str\n",
    "\n",
    "\n",
    "def plt_img_base64(img_base64):\n",
    "    \"\"\"\n",
    "    Base64로 인코딩된 문자열을 이미지로 표시합니다.\n",
    "\n",
    "    :param img_base64:  Base64 문자열\n",
    "    \"\"\"\n",
    "    # Base64 문자열을 소스로 사용하여 HTML img 태그 생성\n",
    "    image_html = f'<img src=\"data:image/jpeg;base64,{img_base64}\" />'\n",
    "    # HTML을 렌더링하여 이미지 표시\n",
    "    display(HTML(image_html))\n",
    "\n",
    "\n",
    "def prompt_func(data):  # 프롬프트 함수를 정의합니다.\n",
    "    text = data[\"text\"]  # 데이터에서 텍스트를 가져옵니다.\n",
    "    image = data[\"image\"]  # 데이터에서 이미지를 가져옵니다.\n",
    "\n",
    "    image_part = {  # 이미지 부분을 정의합니다.\n",
    "        \"type\": \"image_url\",  # 이미지 URL 타입을 지정합니다.\n",
    "        \"image_url\": f\"data:image/jpeg;base64,{image}\",  # 이미지 URL을 생성합니다.\n",
    "    }\n",
    "\n",
    "    content_parts = []  # 콘텐츠 부분을 저장할 리스트를 초기화합니다.\n",
    "\n",
    "    text_part = {\"type\": \"text\", \"text\": text}  # 텍스트 부분을 정의합니다.\n",
    "\n",
    "    content_parts.append(image_part)  # 이미지 부분을 콘텐츠 부분에 추가합니다.\n",
    "    content_parts.append(text_part)  # 텍스트 부분을 콘텐츠 부분에 추가합니다.\n",
    "\n",
    "    return [HumanMessage(content=content_parts)]  # HumanMessage 객체를 반환합니다.\n",
    "\n",
    "\n",
    "# file_path = \"./images/jeju-beach.jpg\"\n",
    "file_path = \"./images/war.jpg\"\n",
    "pil_image = Image.open(file_path)\n",
    "\n",
    "image_b64 = convert_to_base64(pil_image)\n",
    "\n",
    "plt_img_base64(image_b64)"
   ]
  },
  {
   "cell_type": "markdown",
   "id": "a525d525",
   "metadata": {},
   "source": [
    "- `ChatOllama` 언어 모델을 사용하여 이미지와 텍스트 기반 질의에 대한 답변을 생성하는 체인을 구현합니다.\n",
    "- `prompt_func` 함수는 이미지와 텍스트 데이터를 입력으로 받아 `HumanMessage` 형식으로 변환합니다.\n",
    "  - 이미지 데이터는 Base64 인코딩된 JPEG 형식으로 전달됩니다.\n",
    "  - 텍스트 데이터는 일반 텍스트로 전달됩니다.\n",
    "- `StrOutputParser`를 사용하여 언어 모델의 출력을 문자열로 파싱합니다.\n",
    "- `prompt_func`, `llm`, `StrOutputParser`를 파이프라인으로 연결하여 `chain`을 생성합니다.\n",
    "- `chain.invoke` 메서드를 호출하여 이미지와 텍스트 질의를 전달하고 답변을 생성합니다.\n",
    "- 생성된 답변을 출력합니다.\n"
   ]
  },
  {
   "cell_type": "code",
   "execution_count": 10,
   "id": "e3bf3a9e",
   "metadata": {
    "ExecuteTime": {
     "end_time": "2024-10-01T06:36:50.842539900Z",
     "start_time": "2024-10-01T06:36:38.897644500Z"
    }
   },
   "outputs": [
    {
     "name": "stdout",
     "output_type": "stream",
     "text": [
      " - The image is a humorous political cartoon.\n",
      "- It features a stylized representation of Earth, with various elements superimposed on it.\n",
      "- On the left side of the image, there are three depictions labeled \"ALTERNATIVES\" and pointing towards different areas:\n",
      "  - One pointing to space, labeled \"Space.\"\n",
      "  - Another pointing to military intervention in a Middle Eastern country, labeled \"Military Intervention.\"\n",
      "  - The third pointing to an unidentified location with a missile labeled \"Launch Missile.\"\n",
      "- These three \"solutions\" are shown as alternative ways of dealing with the depicted situation.\n",
      "- In the middle of the image is a large satellite dish, possibly representing surveillance or communication equipment.\n",
      "- Around the satellite dish are various other elements:\n",
      "  - Two beams of light labeled \"Satellite,\" showing the signal paths.\n",
      "  - A drone-like object with an eye, labeled \"Drone,\" which could represent spy technology.\n",
      "  - A missile launcher with a missile in flight, labeled \"Missile.\"\n",
      "  - An airplane flying over a city labeled \"Airplane.\"\n",
      "  - A spacecraft or rocket labeled \"Spacecraft,\" suggesting outer space exploration or activity.\n",
      "- The central figure is a large explosion, representing the aftermath of the depicted event.\n",
      "- At the bottom, there's a small caption that reads \"Energy Weapon System.\"\n",
      "- In the background, there are various cities and bodies of water, with one area in particular being labeled as an area with \"No Missiles\" flying over it.\n",
      "- The image uses color coding to distinguish between different elements (e.g., red for missiles, blue for satellites).\n",
      "- The overall tone of the image is critical, suggesting a commentary on foreign policy or global affairs. \n"
     ]
    }
   ],
   "source": [
    "from langchain_core.output_parsers import StrOutputParser\n",
    "from langchain_community.chat_models import ChatOllama\n",
    "from langchain_core.messages import HumanMessage\n",
    "\n",
    "# ChatOllama 멀티모달 언어 모델을 불러옵니다.\n",
    "# llm = ChatOllama(model=\"llava:7b\", temperature=0)\n",
    "llm = RemoteRunnable(f\"{os.getenv('LANGSERVE_ENDPOINT')}/llm-llava\")\n",
    "\n",
    "# 프롬프트 함수, 언어 모델, 출력 파서를 연결하여 체인을 생성합니다.\n",
    "chain = prompt_func | llm | StrOutputParser()\n",
    "\n",
    "query_chain = chain.invoke(  # 체인을 호출하여 쿼리를 실행합니다.\n",
    "    # 텍스트와 이미지를 전달합니다.\n",
    "    {\"text\": \"Describe a picture in bullet points\", \"image\": image_b64}\n",
    ")\n",
    "\n",
    "print(query_chain)  # 쿼리 결과를 출력합니다."
   ]
  },
  {
   "cell_type": "code",
   "execution_count": null,
   "outputs": [],
   "source": [],
   "metadata": {
    "collapsed": false
   },
   "id": "3ec80715c2100bc"
  }
 ],
 "metadata": {
  "kernelspec": {
   "display_name": "py-test",
   "language": "python",
   "name": "python3"
  },
  "language_info": {
   "codemirror_mode": {
    "name": "ipython",
    "version": 3
   },
   "file_extension": ".py",
   "mimetype": "text/x-python",
   "name": "python",
   "nbconvert_exporter": "python",
   "pygments_lexer": "ipython3",
   "version": "3.11.9"
  }
 },
 "nbformat": 4,
 "nbformat_minor": 5
}
